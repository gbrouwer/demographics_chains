{
 "cells": [
  {
   "cell_type": "markdown",
   "metadata": {},
   "source": [
    "### Import"
   ]
  },
  {
   "cell_type": "code",
   "execution_count": 43,
   "metadata": {},
   "outputs": [],
   "source": [
    "import os\n",
    "import sys\n",
    "import pandas as pd\n",
    "import numpy as np\n",
    "import shapefile\n",
    "import re\n",
    "import pickle\n",
    "import networkx as nx\n",
    "import matplotlib.pyplot as plt\n",
    "from scipy.spatial import KDTree\n",
    "from tqdm import tqdm\n",
    "from collections import Counter\n",
    "from scipy.stats.mstats import gmean\n",
    "from scipy.spatial.distance import cdist\n",
    "from scipy.spatial.distance import pdist"
   ]
  },
  {
   "cell_type": "markdown",
   "metadata": {},
   "source": [
    "### Find Available files for tracts"
   ]
  },
  {
   "cell_type": "code",
   "execution_count": 13,
   "metadata": {},
   "outputs": [],
   "source": [
    "myfiles = []\n",
    "for root, dirs, files in os.walk(\"../data/acs/nyc_tracts/nyc_tracts_cleaned\", topdown=False):\n",
    "    for name in files:\n",
    "        if 'X' in name and 'csvt' not in name:\n",
    "            myfiles.append(os.path.join(root, name))\n",
    "myfiles = np.sort(myfiles)"
   ]
  },
  {
   "cell_type": "markdown",
   "metadata": {},
   "source": [
    "### Remove Margin of Error Columns"
   ]
  },
  {
   "cell_type": "code",
   "execution_count": 14,
   "metadata": {},
   "outputs": [],
   "source": [
    "def removeMarginOfErrorColumns(data):\n",
    "\n",
    "    #Remove Columns\n",
    "    columns = data.columns\n",
    "    keep = []\n",
    "    for column in columns:\n",
    "        if '(margin_of_error)' not in column:\n",
    "            keep.append(column)\n",
    "    data = data[keep]\n",
    "    \n",
    "    #Return\n",
    "    return data"
   ]
  },
  {
   "cell_type": "markdown",
   "metadata": {},
   "source": [
    "### Remove Empty Columns"
   ]
  },
  {
   "cell_type": "code",
   "execution_count": 15,
   "metadata": {},
   "outputs": [],
   "source": [
    "def removeEmptyColumns(data):\n",
    "\n",
    "    #Remove Columns\n",
    "    columns = data.columns\n",
    "    keepcolumns = []\n",
    "    for column in columns:\n",
    "        if (data[column].isnull().all() == False):\n",
    "            keepcolumns.append(column)\n",
    "    data = data[keepcolumns]\n",
    "    \n",
    "    #Return\n",
    "    return data"
   ]
  },
  {
   "cell_type": "markdown",
   "metadata": {},
   "source": [
    "### Read Data"
   ]
  },
  {
   "cell_type": "code",
   "execution_count": 16,
   "metadata": {},
   "outputs": [
    {
     "name": "stderr",
     "output_type": "stream",
     "text": [
      "31it [00:17,  1.81it/s]\n"
     ]
    }
   ],
   "source": [
    "dataframes = []\n",
    "for m,myfile in tqdm(enumerate(myfiles)):\n",
    "\n",
    "    #Read\n",
    "    dataframe = pd.read_csv(myfile)\n",
    "\n",
    "    #Remove OBJECTID and GEOID in all other tables\n",
    "    if (m > 0): dataframe = dataframe.drop(['OBJECTID','GEOID'],axis=1)\n",
    "\n",
    "    #Remove Margin of Error Columns\n",
    "    dataframe = removeMarginOfErrorColumns(dataframe)\n",
    "    \n",
    "    #Remove Empty Columns\n",
    "    dataframe = removeEmptyColumns(dataframe)\n",
    "    \n",
    "    #Add to bag\n",
    "    dataframes.append(dataframe)\n",
    "\n",
    "#Combine\n",
    "data = pd.concat(dataframes,axis=1)"
   ]
  },
  {
   "cell_type": "markdown",
   "metadata": {},
   "source": [
    "### Build dictionary of column occurences"
   ]
  },
  {
   "cell_type": "code",
   "execution_count": 17,
   "metadata": {},
   "outputs": [],
   "source": [
    "C = {}\n",
    "columns = data.columns\n",
    "for c,column in enumerate(columns):\n",
    "    if column in C:\n",
    "        values = C[column]\n",
    "        values.append(values[-1]+1)\n",
    "        C[column] = values\n",
    "    else:\n",
    "        C[column] = [0]"
   ]
  },
  {
   "cell_type": "markdown",
   "metadata": {},
   "source": [
    "### Drop Columns that occur more than once"
   ]
  },
  {
   "cell_type": "code",
   "execution_count": 18,
   "metadata": {},
   "outputs": [],
   "source": [
    "newcolumns = []\n",
    "dropcolumns =[]\n",
    "columns = data.columns\n",
    "for column in columns:\n",
    "    occ = C[column]\n",
    "    index = occ[0]\n",
    "    newcolumn = column + '_' + str(index)\n",
    "    C[column] = occ[1:]\n",
    "    newcolumns.append(newcolumn)\n",
    "    if (index > 0):\n",
    "        dropcolumns.append(newcolumn)\n",
    "data.columns = newcolumns\n",
    "data = data.drop(dropcolumns,axis=1)"
   ]
  },
  {
   "cell_type": "markdown",
   "metadata": {},
   "source": [
    "### Drop Columns"
   ]
  },
  {
   "cell_type": "code",
   "execution_count": 19,
   "metadata": {},
   "outputs": [],
   "source": [
    "toberemoved = []\n",
    "toberemoved.append('nativity_and_citizenship_status')\n",
    "toberemoved.append('foreign-born_population')\n",
    "toberemoved.append('place_of_birth')\n",
    "toberemoved.append('by_nativity')\n",
    "toberemoved.append('in_the_united_states_born')\n",
    "toberemoved.append('sex_of_workers_by_time_leaving_home')\n",
    "toberemoved.append('sex_of_workers_by_vehicles_available')\n",
    "toberemoved.append('place_of_work_for_workers_')\n",
    "toberemoved.append('aggregate_travel_time_to_work_')\n",
    "toberemoved.append('number_of_workers_in_household_by_vehicles')\n",
    "toberemoved.append('own_children_under_')\n",
    "toberemoved.append('household_type_(including_living_alone)')\n",
    "toberemoved.append('living_arrangements_of_adults')\n",
    "toberemoved.append('grandparents_living')\n",
    "toberemoved.append('household_type_by_relatives')\n",
    "toberemoved.append('family_type_by_')\n",
    "toberemoved.append('by_marital_status_')\n",
    "toberemoved.append('ratio_of_income_to_poverty_level')\n",
    "toberemoved.append('household_income_in_the_past_12_months_(in_2018_inflation-adjusted_dollars)_(')\n",
    "toberemoved.append('age_of_householder_by_household_income_')\n",
    "toberemoved.append('quintile_')\n",
    "toberemoved.append('shares_of_aggregate_')\n",
    "toberemoved.append('family_income_in_the_past_')\n",
    "toberemoved.append('family_size_by_')\n",
    "toberemoved.append('aggregate_nonfamily_')\n",
    "toberemoved.append('sex_by_work_experience')\n",
    "toberemoved.append('sex_by_earnings_')\n",
    "toberemoved.append('veteran_status')\n",
    "toberemoved.append('receipt_of_food_stamps')\n",
    "toberemoved.append('sex_by_age_by_employment_')\n",
    "toberemoved.append('presence_of_own_c')\n",
    "toberemoved.append('sex_by_work_status_in_the_past')\n",
    "toberemoved.append('full-time_year-round_work_status')\n",
    "toberemoved.append('tenure_by_')\n",
    "toberemoved.append('mortgage_status_')\n",
    "toberemoved.append('total_population_in_occupied_housing_units_by_tenure')\n",
    "toberemoved.append('plumbing_facilities_')\n",
    "toberemoved.append('age_of_householder_by_gross')\n",
    "toberemoved.append('aggregate_value_')\n",
    "toberemoved.append('price_asked_total')\n",
    "toberemoved.append('age_of_householder_by_selected_monthly_owner_costs')\n",
    "toberemoved.append('household_income_in_the_past_12_months_(in_2018_inflation-adjusted_dollars)_by_value_')\n",
    "toberemoved.append('allocation_of_')\n",
    "toberemoved.append('military_health')\n",
    "toberemoved.append('means-tested_')\n",
    "toberemoved.append('sex_of_workers_')\n",
    "toberemoved.append('unweighted_sample')\n",
    "toberemoved.append('hispanic_or_latino_origin_by_')\n",
    "toberemoved.append('marital_status_')\n",
    "toberemoved.append('total_fields_of_')\n",
    "toberemoved.append('house_heating_fuel_')\n",
    "toberemoved.append('year_structure_built_')\n",
    "toberemoved.append('kitchen_facilities_for_all')\n",
    "toberemoved.append('selected_monthly_owner_costs')\n",
    "toberemoved.append('median_value_by_year_structure')\n",
    "toberemoved.append('disability_status')\n",
    "toberemoved.append('field_of_bachelor')\n",
    "toberemoved.append('_who_had_a_birth_in_the_past_')\n",
    "toberemoved.append('language_spoken_at_')\n",
    "toberemoved.append('median_age_')\n",
    "toberemoved.append('nativity_in_the_united_states_')\n",
    "toberemoved.append('sex_by_age_by_independent_living_difficulty')\n",
    "toberemoved.append('_difficulty_')\n",
    "toberemoved.append('number_of_earners_in_family_')\n",
    "toberemoved.append('disabilities_')\n",
    "toberemoved.append('aggregate_income_')\n",
    "toberemoved.append('median_earnings_')\n",
    "toberemoved.append('period_of_military_service')\n",
    "toberemoved.append('_disability')\n",
    "toberemoved.append('aggregate_number_of_vehicles')\n",
    "toberemoved.append('median')\n",
    "toberemoved.append('usual_hours_worked_')\n",
    "toberemoved.append('kitchen_facilities')\n",
    "toberemoved.append('quartile_')\n",
    "toberemoved.append('group_quarters_population_total_population_in_group_quarters_0')\n",
    "toberemoved.append('aggregate_price_asked')\n",
    "toberemoved.append('aggregate_number_of_rooms_')\n",
    "toberemoved.append('vacant_')\n",
    "toberemoved.append('tenure_total_')\n",
    "toberemoved.append('mean_usual_hours_')\n",
    "toberemoved.append('aggregate_usual_hours_')"
   ]
  },
  {
   "cell_type": "markdown",
   "metadata": {},
   "source": [
    "### Find Columns to separate of remove"
   ]
  },
  {
   "cell_type": "code",
   "execution_count": 20,
   "metadata": {},
   "outputs": [],
   "source": [
    "columns = data.columns\n",
    "ancestrycol = []\n",
    "transportationcol = []\n",
    "dropcol = []\n",
    "schoolcol = []\n",
    "povertycol = []\n",
    "rentcol = []\n",
    "healthinsurancecol = []\n",
    "techcol = []\n",
    "householdcol = []\n",
    "commutecol = []\n",
    "for column in columns:\n",
    "    if 'ancestry' in column:\n",
    "        ancestrycol.append(column)\n",
    "    if 'means_of_transportation' in column:\n",
    "        transportationcol.append(column)\n",
    "    if 'school_enrollment_' in column:\n",
    "        schoolcol.append(column)\n",
    "    if '_rent_' in column:        \n",
    "        rentcol.append(column)\n",
    "    if 'poverty_status_' in column:\n",
    "        povertycol.append(column)\n",
    "    if ('health_insurance_' in column \\\n",
    "        or 'health_care_' in column \\\n",
    "        or 'medicare' in column):\n",
    "        healthinsurancecol.append(column)\n",
    "    if ('travel_' in column or 'time_leaving' in column):\n",
    "        commutecol.append(column)\n",
    "    if ('computer' in column or 'internet' in column):\n",
    "        techcol.append(column)\n",
    "    if ('household' in column):\n",
    "        householdcol.append(column)\n",
    "    for item in toberemoved:\n",
    "        if item in column:\n",
    "            dropcol.append(column)"
   ]
  },
  {
   "cell_type": "markdown",
   "metadata": {},
   "source": [
    "### Remove/Separate Columns"
   ]
  },
  {
   "cell_type": "code",
   "execution_count": 21,
   "metadata": {},
   "outputs": [],
   "source": [
    "newdata = data.copy()\n",
    "rent = data[rentcol]\n",
    "poverty = data[povertycol]\n",
    "ancestry = data[ancestrycol]\n",
    "transport = data[transportationcol]\n",
    "education = data[schoolcol]\n",
    "commute = data[commutecol]\n",
    "tech = data[techcol]\n",
    "hpusehold = data[householdcol]\n",
    "healthinsurance = data[healthinsurancecol]\n",
    "combined = dropcol + householdcol + rentcol + povertycol + ancestrycol + commutecol\n",
    "combined = combined + transportationcol + schoolcol + techcol + healthinsurancecol\n",
    "combined = np.unique(combined).tolist()\n",
    "newdata = newdata.drop(combined,axis=1)"
   ]
  },
  {
   "cell_type": "markdown",
   "metadata": {},
   "source": [
    "### GEO"
   ]
  },
  {
   "cell_type": "code",
   "execution_count": 22,
   "metadata": {},
   "outputs": [],
   "source": [
    "geo = newdata[['OBJECTID_0','GEOID_0']]\n",
    "geo.columns = ['OBJECTID','GEOID']"
   ]
  },
  {
   "cell_type": "markdown",
   "metadata": {},
   "source": [
    "### Race Dictionary"
   ]
  },
  {
   "cell_type": "code",
   "execution_count": 23,
   "metadata": {},
   "outputs": [],
   "source": [
    "R = {}\n",
    "Rc = {}\n",
    "R['white'] = 'white'\n",
    "R['black_or_african_american'] = 'black'\n",
    "R['american_indian_and_alaska_native'] = 'native'\n",
    "R['asian'] = 'asian'\n",
    "R['native_hawaiian_and_other_pacific_islander'] = 'islander'\n",
    "R['two_or_more_races'] = 'two_or_more_races'\n",
    "R['some_other_race'] = 'some_other_race'\n",
    "R['white_not_hispanic_or_latino'] = 'not_hispanic'\n",
    "R['hispanic_or_latino'] = 'hispanic'\n",
    "Rc['white'] = 1\n",
    "Rc['black_or_african_american'] = 2\n",
    "Rc['american_indian_and_alaska_native'] = 3\n",
    "Rc['asian'] = 4\n",
    "Rc['native_hawaiian_and_other_pacific_islander'] = 5\n",
    "Rc['two_or_more_races'] = 6\n",
    "Rc['some_other_race'] = 7\n",
    "Rc['white_not_hispanic_or_latino'] = 8\n",
    "Rc['hispanic_or_latino'] = 9"
   ]
  },
  {
   "cell_type": "markdown",
   "metadata": {},
   "source": [
    "### Education Levels"
   ]
  },
  {
   "cell_type": "code",
   "execution_count": 24,
   "metadata": {},
   "outputs": [],
   "source": [
    "E1 = {}\n",
    "E2 = {}\n",
    "E1['no_schooling_completed'] = 1\n",
    "E1['nursery_to_4th_grade'] = 2\n",
    "E1['5th_and_6th_grade'] = 3\n",
    "E1['7th_and_8th_grade'] = 4\n",
    "E1['9th_grade'] = 5\n",
    "E1['10th_grade'] = 6\n",
    "E1['11th_grade'] = 7\n",
    "E1['12th_grade_no_diploma'] = 8\n",
    "E1['high_school_graduate'] = 9\n",
    "E1['some_college_less_than_1_year'] = 10\n",
    "E1['some_college_1_or_more_years_no_degree'] = 11\n",
    "E1['associates_degree'] = 12\n",
    "E1['bachelors_degree'] = 13\n",
    "E1['masters_degree'] = 14\n",
    "E1['professional_school_degree'] = 15\n",
    "E1['doctorate_degree'] = 16\n",
    "E2['less_than_high_school_diploma'] = 17\n",
    "E2['high_school_graduate'] = 18\n",
    "E2['some_college_or_associates_degree'] = 19\n",
    "E2['bachelors_degree_or_higher'] = 20"
   ]
  },
  {
   "cell_type": "markdown",
   "metadata": {},
   "source": [
    "### Renaming of Columns (Demo and Education)"
   ]
  },
  {
   "cell_type": "code",
   "execution_count": 25,
   "metadata": {},
   "outputs": [],
   "source": [
    "keepcolumns = []\n",
    "newcolumnnames = []\n",
    "genderlevels = []\n",
    "racelevels = []\n",
    "educationlevels = []\n",
    "for c,column in enumerate(newdata.columns):\n",
    "    \n",
    "    #Sex by age\n",
    "    newname = column.replace('sex_by_age_','')\n",
    "    newname = newname.replace('_(includes_equivalency)_','')\n",
    "    newname = newname.replace('_(in_2018_inflation-adjusted_dollars)_','')\n",
    "    allelements = newname.split('_')\n",
    "    if ('sex_by_educational_attainment' not in column):\n",
    "        if ('sex_by_age_male' in column or 'sex_by_age_female' in column):\n",
    "            newname = newname.replace('_total_population_0','')\n",
    "            newname = newname.replace('years','')\n",
    "            elements = newname.split('_')\n",
    "\n",
    "            if (len(elements) == 1): newname = elements[0] + '_total'\n",
    "            else: newname = elements[0] + '_' + ''.join(elements[1:])\n",
    "            newname = newname.replace('85andover','over85')\n",
    "            if ('total' not in newname):\n",
    "                newcolumnnames.append(newname)\n",
    "                keepcolumns.append(column)\n",
    "                if (newname.index('male') == 0):\n",
    "                    genderlevels.append(0)\n",
    "                    racelevels.append(0)\n",
    "                    educationlevels.append(0)\n",
    "                else:\n",
    "                    genderlevels.append(1)\n",
    "                    racelevels.append(0)\n",
    "                    educationlevels.append(0)\n",
    "\n",
    "        #Race\n",
    "        races = re.findall('\\(.*?\\)',newname)\n",
    "        if (len(races) > 0):\n",
    "            therest = newname[len(races[0])+1:]\n",
    "            race = races[0][1:-1].replace('_alone','')\n",
    "            race2 = R[race]\n",
    "            if 'years' in therest:\n",
    "                elements = therest.split('_')\n",
    "                index = elements.index('years')\n",
    "                newname = '_'.join(elements[:index])\n",
    "                newname = race2 + '_' + newname.replace('_85','_over_85')\n",
    "                if ('total' not in newname):\n",
    "                    newcolumnnames.append(newname)\n",
    "                    keepcolumns.append(column)\n",
    "                    if ('_male_' in newname):\n",
    "                        racelevels.append(Rc[race])\n",
    "                        genderlevels.append(0)\n",
    "                        educationlevels.append(0)\n",
    "                    else:\n",
    "                        racelevels.append(Rc[race])\n",
    "                        genderlevels.append(1)\n",
    "                        educationlevels.append(0)\n",
    "                    \n",
    "    else:\n",
    "        newname = newname.replace('_25_years_and_over','')\n",
    "        newname = newname.replace('_population_0','')\n",
    "        races = re.findall('\\(.*?\\)',newname)\n",
    "        if (len(races) > 0):\n",
    "            newname = newname.replace('sex_by_educational_attainment_','')\n",
    "            races = re.findall('\\(.*?\\)',newname)\n",
    "            remove = races[0] + '_'\n",
    "            newname = newname.replace(remove,'').replace('_alone','')\n",
    "            race = races[0][1:-1].replace('_alone','')\n",
    "            race2 = R[race]\n",
    "            newname = newname.replace('_white','')\n",
    "            newname = newname.replace('_black_or_african_american','')\n",
    "            newname = newname.replace('_american_indian_and_alaska_native','')\n",
    "            newname = newname.replace('_asian','')\n",
    "            newname = newname.replace('_native_hawaiian_and_other_pacific_islander','')\n",
    "            newname = newname.replace('_two_or_more_races','')\n",
    "            newname = newname.replace('_some_other_race','')\n",
    "            newname = newname.replace('white','')\n",
    "            newname = newname.replace('black_or_african_american','')\n",
    "            newname = newname.replace('american_indian_and_alaska_native','')\n",
    "            newname = newname.replace('asian','')\n",
    "            newname = newname.replace('native_hawaiian_and_other_pacific_islander','')\n",
    "            newname = newname.replace('some_other_race','')\n",
    "            newname = newname.replace('two_or_more_races','')\n",
    "            newname = newname.replace('_not_hispanic_or_latino','')\n",
    "            newname = newname.replace('_hispanic_or_latino','')\n",
    "            newname = newname.replace('not_hispanic_or_latino','')\n",
    "            newname = newname.replace('hispanic_or_latino','')\n",
    "            newname = newname.replace(\"'\",'')\n",
    "            elements = newname.split('_')\n",
    "            if (len(elements) > 1):\n",
    "                newname = race2 + '_' + newname\n",
    "                newcolumnnames.append(newname)\n",
    "                keepcolumns.append(column)\n",
    "                schooling = '_'.join(elements[1:])\n",
    "                schooling = E2[schooling]\n",
    "                if ('_male_' in newname):\n",
    "                    genderlevels.append(0)\n",
    "                    racelevels.append(Rc[race])\n",
    "                    educationlevels.append(schooling)\n",
    "                else:\n",
    "                    genderlevels.append(1)\n",
    "                    racelevels.append(Rc[race])\n",
    "                    educationlevels.append(schooling)\n",
    "        else:\n",
    "            newname = newname.replace(\"'\",'')\n",
    "            newname = newname.replace('sex_by_educational_attainment_','')\n",
    "            newname = newname.replace('population_0','')\n",
    "            elements = newname.split('_')\n",
    "            if (len(elements) > 1):\n",
    "                newcolumnnames.append(newname)\n",
    "                keepcolumns.append(column)\n",
    "                schooling = '_'.join(elements[1:])\n",
    "                schooling = E1[schooling]\n",
    "                if ('_male_' in newname):\n",
    "                    genderlevels.append(0)\n",
    "                    racelevels.append(0)\n",
    "                    educationlevels.append(schooling)\n",
    "                else:\n",
    "                    genderlevels.append(1)\n",
    "                    racelevels.append(0)\n",
    "                    educationlevels.append(schooling)               "
   ]
  },
  {
   "cell_type": "markdown",
   "metadata": {},
   "source": [
    "### Restrict and rename"
   ]
  },
  {
   "cell_type": "code",
   "execution_count": 26,
   "metadata": {},
   "outputs": [],
   "source": [
    "newdata = newdata[keepcolumns]\n",
    "newdata.columns = newcolumnnames"
   ]
  },
  {
   "cell_type": "markdown",
   "metadata": {},
   "source": [
    "### Split into demo and edu"
   ]
  },
  {
   "cell_type": "code",
   "execution_count": 27,
   "metadata": {},
   "outputs": [],
   "source": [
    "columns = newdata.columns\n",
    "education = newdata[columns[np.where(np.array(educationlevels) > 0)]]\n",
    "demographics = newdata[columns[np.where(np.array(educationlevels) == 0)]]"
   ]
  },
  {
   "cell_type": "markdown",
   "metadata": {},
   "source": [
    "### Rent"
   ]
  },
  {
   "cell_type": "code",
   "execution_count": 28,
   "metadata": {},
   "outputs": [],
   "source": [
    "keepcolumns = []\n",
    "newcolumnnames = []\n",
    "for column in rent.columns:\n",
    "    if 'household_income_in_the_past_12_months_(in_' not in column:\n",
    "        if 'bedrooms_by_gross_rent_' in column and '_with_cash_rent_' not in column:\n",
    "            newname = column.replace('_renter-occupied_housing_units_0','')\n",
    "            newcolumnnames.append(newname)\n",
    "            keepcolumns.append(column)\n",
    "        if 'gross_rent_with_cash_rent_' in column and 'bedrooms_by_gross_rent_with_cash_ren' not in column:\n",
    "            newname = column.replace('_renter-occupied_housing_units_0','')\n",
    "            newname = newname.replace('_with_cash_rent','')\n",
    "            newname = newname.replace('$1_','$1')\n",
    "            newname = newname.replace('$2_','$2')\n",
    "            newname = newname.replace('$3_','$3')\n",
    "            newname = newname.replace('$4_','$4')\n",
    "            if (newname == 'gross_rent'):\n",
    "                newname = 'gross_rent_total'\n",
    "            newcolumnnames.append(newname)\n",
    "            keepcolumns.append(column)\n",
    "        if 'gross_rent_as_a_percentage_of_household_income_' in column:\n",
    "            if 'age_of_householder_by_gross_rent' not in column:\n",
    "                if 'median' not in column:\n",
    "                    newname = column.replace('household_income_by_gross_rent_as_a_percentage_of_household_income_in_the_past_12_months','')\n",
    "                    newname = newname.replace('_renter-occupied_housing_units_0','')\n",
    "                    newname = newname.replace('_income_in_the_past_12_months','')\n",
    "                    if (newname != '_total'):\n",
    "                        if 'total' not in newname:\n",
    "                            newname = newname + '_total'\n",
    "                        if 'gross_rent_as_a_percentage_of_household' not in newname:\n",
    "                            newname = 'gross_rent_as_a_percentage_of_household' + newname\n",
    "                        newname = newname.replace('gross_rent_as_a_percentage_of_household','rent_as_percent_income')\n",
    "                        newname = newname.replace('_percent_total','_percent')\n",
    "                        newname = newname.replace('_000','000')\n",
    "                        newname = newname.replace('_999','999')\n",
    "                        newname = newname.replace('.0','')\n",
    "                        newname = newname.replace('.9','')                        \n",
    "                        newname = newname.replace('_to_','_')   \n",
    "                        newcolumnnames.append(newname)\n",
    "                        keepcolumns.append(column)\n",
    "                        \n",
    "rent = rent[keepcolumns]\n",
    "rent.columns = newcolumnnames                        "
   ]
  },
  {
   "cell_type": "markdown",
   "metadata": {},
   "source": [
    "### Poverty"
   ]
  },
  {
   "cell_type": "code",
   "execution_count": 29,
   "metadata": {},
   "outputs": [],
   "source": [
    "keepcolumns = []\n",
    "newcolumnnames = []\n",
    "for column in poverty.columns:\n",
    "    if 'poverty_status_in_the_past_12_months_by_sex_by_age' in column:\n",
    "        index = column.index('poverty_status_in_the_past_12_months_by_sex_by_age')\n",
    "        if (index == 0 and '.1_0' not in column and 'income_in_the_past' not in column):\n",
    "            newname = column.replace('_population_for_whom_poverty_status_is_determined_0','')\n",
    "            races = re.findall('\\(.*?\\)',newname)\n",
    "            if (len(races) > 0):\n",
    "                remove = races[0] + '_'\n",
    "                newname = newname.replace(remove,'').replace('_alone','')\n",
    "                newname = newname.replace('poverty_status_in_the_past_12_months_by_sex_by_age','poverty_status')\n",
    "                newname = newname.replace('_white','')\n",
    "                newname = newname.replace('_black_or_african_american','')\n",
    "                newname = newname.replace('_american_indian_and_alaska_native','')\n",
    "                newname = newname.replace('_asian','')\n",
    "                newname = newname.replace('_native_hawaiian_and_other_pacific_islander','')\n",
    "                newname = newname.replace('_two_or_more_races','')\n",
    "                newname = newname.replace('_some_other_race','')\n",
    "                race = races[0][1:-1].replace('_alone','')\n",
    "                race2 = R[race]\n",
    "                newname = race2 + '_' + newname\n",
    "                newcolumnnames.append(newname)\n",
    "                keepcolumns.append(column)\n",
    "            else:\n",
    "                newname = newname.replace('poverty_status_in_the_past_12_months_by_sex_by_age','poverty_status')\n",
    "                newcolumnnames.append(newname)\n",
    "                keepcolumns.append(column)\n",
    "\n",
    "poverty = poverty[keepcolumns]\n",
    "poverty.columns = newcolumnnames                        "
   ]
  },
  {
   "cell_type": "markdown",
   "metadata": {},
   "source": [
    "### Ancestry"
   ]
  },
  {
   "cell_type": "code",
   "execution_count": 30,
   "metadata": {},
   "outputs": [],
   "source": [
    "removelist = ['ancestry_west_indian','ancestry_subsaharan_african',\\\n",
    "              'ancestry_arab','ancestry_total','ancestry_total_afghan',\\\n",
    "              'ancestry_total_albanian','ancestry_total_alsatian',\\\n",
    "              'ancestry_total_american']\n",
    "keepcolumns = []\n",
    "newcolumnnames = []\n",
    "for column in ancestry.columns:\n",
    "    if 'people_reporting_ancestry_' in column:\n",
    "        newname = column.replace('_total_population_0','')\n",
    "        newname = newname.replace('_(except_hispanic_groups)','')\n",
    "        newname = newname.replace('people_reporting_ancestry_','ancestry_')\n",
    "        newname = newname.replace('/','_')\n",
    "        found = 0\n",
    "        for item in removelist:\n",
    "            if (newname == item):\n",
    "                found = 1\n",
    "        if (found == 0):\n",
    "            newcolumnnames.append(newname)\n",
    "            keepcolumns.append(column)\n",
    "\n",
    "ancestry = ancestry[keepcolumns]\n",
    "ancestry.columns = newcolumnnames"
   ]
  },
  {
   "cell_type": "markdown",
   "metadata": {},
   "source": [
    "### Transport"
   ]
  },
  {
   "cell_type": "code",
   "execution_count": 31,
   "metadata": {},
   "outputs": [],
   "source": [
    "keepcolumns = []\n",
    "newcolumnnames = []\n",
    "excludelist = []\n",
    "excludelist.append('.1_0')\n",
    "excludelist.append('.2_0')\n",
    "excludelist.append('.3_0')\n",
    "excludelist.append('_citizenship_status_')\n",
    "excludelist.append('_language_spoken_at_home')\n",
    "excludelist.append(\"by_workers'_earnings\")\n",
    "excludelist.append('_by_occupation')\n",
    "excludelist.append('_by_poverty_status')\n",
    "excludelist.append('_by_industry')\n",
    "excludelist.append('_by_time_leaving_home')\n",
    "excludelist.append('_by_class_of')\n",
    "excludelist.append('_by_travel_time')\n",
    "excludelist.append('_by_tenure')\n",
    "excludelist.append('_by_place_of_')\n",
    "excludelist.append('_by_vehicles_available_')\n",
    "for column in transport.columns[:117]:\n",
    "    if 'means_of_transportation_to_work_' in column:\n",
    "        if 'means_of_transportation_to_work_by_industry_' not in columns:\n",
    "            index = column.index('means_of_transportation_to_work_')\n",
    "            if (index == 0 and 'means_of_transportation_to_work_by_age_total_' not in column):\n",
    "                newname = column.replace('means_of_transportation_to_work_by_age_','transportation_')\n",
    "                found = 0\n",
    "                for item in excludelist:\n",
    "                    if item in newname:\n",
    "                        found = 1\n",
    "                if (found == 0):\n",
    "                    newname = newname.replace('means_of_transportation_to_work_by_age_','transportation_')\n",
    "                    newname = newname.replace('_-_drove_alone','_drove_alone')\n",
    "                    newname = newname.replace('_-_carpooled','_carpooled')\n",
    "                    newname = newname.replace('_workers_16_years_and_over_0','')\n",
    "                    newname = newname.replace('_(excluding_taxicab)','')\n",
    "                    if ('years' in newname):\n",
    "                        newcolumnnames.append(newname)\n",
    "                        keepcolumns.append(column)\n",
    "\n",
    "transport = transport[keepcolumns]\n",
    "transport.columns = newcolumnnames"
   ]
  },
  {
   "cell_type": "markdown",
   "metadata": {},
   "source": [
    "### Commute"
   ]
  },
  {
   "cell_type": "code",
   "execution_count": 32,
   "metadata": {},
   "outputs": [],
   "source": [
    "keepcolumns = []\n",
    "newcolumnnames = []\n",
    "for column in commute.columns:\n",
    "    if 'aggregate_travel_time' not in column and 'means_of_transportation' not in column:\n",
    "        if 'allocation_of_time' not in column and 'sex_of_workers' in column:\n",
    "            newname = column\n",
    "            newname = newname.replace('sex_of_workers_by_travel_time_to_work_','travel_time_')\n",
    "            newname = newname.replace('sex_of_workers_by_time_leaving_home_to_go_to_work','time_leaving')\n",
    "            newname = newname.replace('_who_did_not_work_at_home_0','')\n",
    "            newname = newname.replace('_workers_16_years_and_over','')\n",
    "            for i in range(10):\n",
    "                for j in range(10):\n",
    "                    repstr1 = str(i) + '_' + str(j)\n",
    "                    repstr2 = str(i) + ':' + str(j)\n",
    "                    newname = newname.replace(repstr1,repstr2)\n",
    "                    newname = newname.replace('_a.m.','AM')\n",
    "                    newname = newname.replace('_p.m.','PM')\n",
    "            newcolumnnames.append(newname)\n",
    "            keepcolumns.append(column)\n",
    "\n",
    "commute = commute[keepcolumns]\n",
    "commute.columns = newcolumnnames"
   ]
  },
  {
   "cell_type": "markdown",
   "metadata": {},
   "source": [
    "### Tech"
   ]
  },
  {
   "cell_type": "code",
   "execution_count": 33,
   "metadata": {},
   "outputs": [],
   "source": [
    "keepcolumns = []\n",
    "newcolumnnames = []\n",
    "for column in tech.columns:\n",
    "    if 'presence_and_types_of_internet_subscriptions_in_household' in column:\n",
    "        newname = column.replace('presence_and_types_of_internet_subscriptions_in_household_total_','internet_')\n",
    "        newname = newname.replace('_households_0','')\n",
    "        newname = newname.replace('_with_no_other_type_of_internet_subscription','_only')\n",
    "    else:\n",
    "        if 'allocation_of_household' not in column and 'degree' not in column and 'presence' not in column and 'types_of_computers_in_household' not in column:\n",
    "            newname = column.replace('_households_0','')\n",
    "            newname = newname.replace('has_one_or_more_types_of_computing_devices_','')\n",
    "            newname = newname.replace('computers_in_household_','computers_')\n",
    "            newname = newname.replace('internet_subscriptions_in_household','internet')\n",
    "            newname = newname.replace('or_other_portable_wireless_computer_or_other_computer_','')\n",
    "            newcolumnnames.append(newname)\n",
    "            keepcolumns.append(column)\n",
    "\n",
    "tech = tech[keepcolumns]\n",
    "tech.columns = newcolumnnames"
   ]
  },
  {
   "cell_type": "markdown",
   "metadata": {},
   "source": [
    "### Health insurance"
   ]
  },
  {
   "cell_type": "code",
   "execution_count": 34,
   "metadata": {},
   "outputs": [],
   "source": [
    "keepcolumns = []\n",
    "newcolumnnames = []\n",
    "for column in healthinsurance.columns:\n",
    "    if 'health_insurance_coverage_status_by_sex_by_age' in column:\n",
    "        if ('.1_0' not in column):\n",
    "            newname = column.replace('_population_0','')\n",
    "            newname = newname.replace('health_insurance_coverage_status_by_sex_by_age','health_insurance')\n",
    "            newname = newname.replace('_civilian_noninstitutionalized','')\n",
    "            elements= newname.split('_')\n",
    "            if (len(elements) > 3 and 'coverage' in newname):\n",
    "                newname = newname.replace('_with_health_insurance_coverage','_with_insurance')\n",
    "                newname = newname.replace('no_health_insurance_coverage','no_insurance')     \n",
    "                newcolumnnames.append(newname)\n",
    "                keepcolumns.append(column)\n",
    "\n",
    "healthinsurance = healthinsurance[keepcolumns]\n",
    "healthinsurance.columns = newcolumnnames"
   ]
  },
  {
   "cell_type": "markdown",
   "metadata": {},
   "source": [
    "### Store all"
   ]
  },
  {
   "cell_type": "code",
   "execution_count": 35,
   "metadata": {},
   "outputs": [],
   "source": [
    "dataframes = []\n",
    "dataframes.append(geo)\n",
    "dataframes.append(demographics)\n",
    "dataframes.append(education)\n",
    "dataframes.append(rent)\n",
    "dataframes.append(poverty)\n",
    "dataframes.append(ancestry)\n",
    "dataframes.append(transport)\n",
    "dataframes.append(transport)\n",
    "dataframes.append(transport)\n",
    "dataframes.append(commute)\n",
    "dataframes.append(tech)\n",
    "dataframes.append(healthinsurance)\n",
    "data = pd.concat(dataframes,axis=1)\n",
    "data = data.fillna(0)\n",
    "data.to_csv('../data/acs/nyc_tracts/nyc_tracts_census.csv',index=False)"
   ]
  },
  {
   "cell_type": "markdown",
   "metadata": {},
   "source": [
    "### Create CSVT file"
   ]
  },
  {
   "cell_type": "code",
   "execution_count": 36,
   "metadata": {},
   "outputs": [],
   "source": [
    "with open('../data/acs/nyc_tracts/nyc_tracts_census.csvt','w') as f:\n",
    "    for c,column in enumerate(data.columns):\n",
    "        if (c == 1):\n",
    "            f.write('\"String(11)\",')\n",
    "        else:\n",
    "            f.write('\"Integer\",')\n",
    "    f.write('\"Integer\"\\n')"
   ]
  },
  {
   "cell_type": "markdown",
   "metadata": {},
   "source": [
    "### Load Shapefile"
   ]
  },
  {
   "cell_type": "code",
   "execution_count": 37,
   "metadata": {},
   "outputs": [],
   "source": [
    "sf = shapefile.Reader('../data/acs/nyc_tracts/nyc_tracts_cleaned.shp')\n",
    "streetsShapeRecs = sf.shapeRecords()"
   ]
  },
  {
   "cell_type": "markdown",
   "metadata": {},
   "source": [
    "### Join"
   ]
  },
  {
   "cell_type": "code",
   "execution_count": 54,
   "metadata": {},
   "outputs": [
    {
     "name": "stderr",
     "output_type": "stream",
     "text": [
      "100%|██████████| 2165/2165 [00:00<00:00, 2617.90it/s]\n"
     ]
    }
   ],
   "source": [
    "outdata = []\n",
    "geoids = data['GEOID'].astype(str).values\n",
    "for item in tqdm(streetsShapeRecs):\n",
    "    shape = item.shape\n",
    "    record = item.record\n",
    "    points = shape.points\n",
    "    mpoint = np.mean(points,axis=0)\n",
    "    geoid1 = record[4]\n",
    "    lat = float(record[11])\n",
    "    lng = float(record[12])\n",
    "    lat = mpoint[1]\n",
    "    lng = mpoint[0]    \n",
    "    index = np.where(geoid1 == geoids)[0][0]\n",
    "    datapoint = data.iloc[index].tolist()\n",
    "    outdata.append([geoid1,lat,lng] + datapoint[2:])\n",
    "outdata = pd.DataFrame(outdata)\n",
    "outdata.columns = ['geoid','lat','lng'] + data.columns[2:].tolist()\n",
    "outdata.to_csv('../data/acs/nyc_tracts/nyc_tracts_census_geo.csv',index=False)"
   ]
  },
  {
   "cell_type": "markdown",
   "metadata": {},
   "source": [
    "### Graph"
   ]
  },
  {
   "cell_type": "code",
   "execution_count": 55,
   "metadata": {},
   "outputs": [],
   "source": [
    "X = pickle.load(open(\"../data/graphs/nyc.p\",\"rb\"))\n",
    "O = X['O']\n",
    "N = X['N']\n",
    "edges = X['edges']\n",
    "nodes = X['nodes']\n",
    "nodenames = X['nodenames']\n",
    "edgedatabase = X['edgedatabase']\n",
    "G = X['G']\n",
    "Nlist = X['Nlist']"
   ]
  },
  {
   "cell_type": "markdown",
   "metadata": {},
   "source": [
    "### Get LatLngs"
   ]
  },
  {
   "cell_type": "code",
   "execution_count": 56,
   "metadata": {},
   "outputs": [],
   "source": [
    "Olatlng = outdata[['lat','lng']].values\n",
    "nodelatlng1 = edgedatabase[['lat1','lng1']].values\n",
    "nodelatlng2 = edgedatabase[['lat2','lng2']].values"
   ]
  },
  {
   "cell_type": "markdown",
   "metadata": {},
   "source": [
    "### Build Trees"
   ]
  },
  {
   "cell_type": "code",
   "execution_count": 57,
   "metadata": {},
   "outputs": [],
   "source": [
    "kdtree1 = KDTree(nodelatlng1)\n",
    "kdtree2 = KDTree(nodelatlng2)"
   ]
  },
  {
   "cell_type": "markdown",
   "metadata": {},
   "source": [
    "### Query Trees"
   ]
  },
  {
   "cell_type": "code",
   "execution_count": 58,
   "metadata": {},
   "outputs": [
    {
     "name": "stderr",
     "output_type": "stream",
     "text": [
      "100%|██████████| 2165/2165 [00:02<00:00, 890.31it/s]\n"
     ]
    }
   ],
   "source": [
    "cindex = []\n",
    "cname = []\n",
    "for i in tqdm(range(Olatlng.shape[0])):\n",
    "    ind1 = kdtree1.query(Olatlng[i,:],k=1)[1]\n",
    "    ind2 = kdtree2.query(Olatlng[i,:],k=1)[1]\n",
    "    dp1 = edgedatabase.iloc[ind1]\n",
    "    dp2 = edgedatabase.iloc[ind2]\n",
    "    cindex.append(dp1.index1)\n",
    "    cname.append(dp1.nodename1)\n",
    "outdata['node_index'] = cindex    \n",
    "outdata['node_name'] = cname\n",
    "outdata.to_csv('../data/acs/nyc_tracts/nyc_tracts_census_geo_node.csv',index=False)"
   ]
  }
 ],
 "metadata": {
  "kernelspec": {
   "display_name": "Python 3",
   "language": "python",
   "name": "python3"
  },
  "language_info": {
   "codemirror_mode": {
    "name": "ipython",
    "version": 3
   },
   "file_extension": ".py",
   "mimetype": "text/x-python",
   "name": "python",
   "nbconvert_exporter": "python",
   "pygments_lexer": "ipython3",
   "version": "3.7.6"
  }
 },
 "nbformat": 4,
 "nbformat_minor": 4
}
