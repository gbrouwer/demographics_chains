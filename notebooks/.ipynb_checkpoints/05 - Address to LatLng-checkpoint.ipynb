{
 "cells": [
  {
   "cell_type": "markdown",
   "metadata": {},
   "source": [
    "### Import"
   ]
  },
  {
   "cell_type": "code",
   "execution_count": 41,
   "metadata": {},
   "outputs": [],
   "source": [
    "import os\n",
    "import sys\n",
    "import pandas as pd\n",
    "import numpy as np\n",
    "import re\n",
    "import shapefile\n",
    "from tqdm import tqdm"
   ]
  },
  {
   "cell_type": "markdown",
   "metadata": {},
   "source": [
    "### Fix Record Helper Function"
   ]
  },
  {
   "cell_type": "code",
   "execution_count": 42,
   "metadata": {},
   "outputs": [],
   "source": [
    "def fixRecord(val):\n",
    "    \n",
    "    #Fix\n",
    "    elements = val.split('-')\n",
    "    if (len(elements) > 1):\n",
    "        val = int(str(int(elements[0])) + str(int(elements[1])))\n",
    "    \n",
    "    #Return\n",
    "    return val"
   ]
  },
  {
   "cell_type": "markdown",
   "metadata": {},
   "source": [
    "### Load Chain Data"
   ]
  },
  {
   "cell_type": "code",
   "execution_count": 43,
   "metadata": {},
   "outputs": [],
   "source": [
    "data = pd.read_csv('../data/tables/chains_with_line_indices.csv')"
   ]
  },
  {
   "cell_type": "markdown",
   "metadata": {},
   "source": [
    "### Load Street Data"
   ]
  },
  {
   "cell_type": "code",
   "execution_count": 44,
   "metadata": {},
   "outputs": [],
   "source": [
    "sf = shapefile.Reader('../data/shapefiles/nyc_streets/nyc_streets_cleaned.shp')\n",
    "shapeRecs = sf.shapeRecords()"
   ]
  },
  {
   "cell_type": "markdown",
   "metadata": {},
   "source": [
    "### Get Lat/Lng Coordinates from Shapefile"
   ]
  },
  {
   "cell_type": "code",
   "execution_count": 45,
   "metadata": {},
   "outputs": [
    {
     "name": "stderr",
     "output_type": "stream",
     "text": [
      "100%|██████████| 5493/5493 [00:03<00:00, 1768.53it/s]\n"
     ]
    }
   ],
   "source": [
    "lats = []\n",
    "lngs = []\n",
    "for i in tqdm(range(data.shape[0])):\n",
    "    \n",
    "    #Get Chain Information\n",
    "    dp = data.iloc[i]\n",
    "    index = dp.stindex\n",
    "    \n",
    "    #Find Shape + Record in Street Shapefile\n",
    "    shaperec = shapeRecs[index]\n",
    "    shape = shaperec.shape\n",
    "    record = shaperec.record\n",
    "\n",
    "    #If Straight line, interpolate\n",
    "    if (len(shape.points) == 2):\n",
    "        val = []\n",
    "        val.append(int(fixRecord(record[3])))\n",
    "        val.append(int(fixRecord(record[4])))\n",
    "        val.append(int(fixRecord(record[7])))\n",
    "        val.append(int(fixRecord(record[8])))\n",
    "        val = np.array(val)\n",
    "        if (dp.lat == 0 and record[5] != str(dp.zipcode) and record[9] != str(dp.zipcode)):\n",
    "            print(dp.address,dp.zipcode,' -> ',np.min(val),np.max(val),record[12],record[5],record[9])\n",
    "        indices = np.where(val > 0)[0]\n",
    "        val = val[indices]\n",
    "        maxval = float(np.max(val))\n",
    "        minval = float(np.min(val))\n",
    "        number = float(dp.number)\n",
    "        number = number - minval\n",
    "        maxval = maxval - minval\n",
    "        minval = minval - minval\n",
    "        if (maxval == 0): maxval = 1.0\n",
    "        number = number / maxval\n",
    "        minval = minval / maxval\n",
    "        maxval = maxval / maxval\n",
    "        ratio1 = 1 - number\n",
    "        ratio2 = number\n",
    "        spos = shape.points[0]\n",
    "        epos = shape.points[1]\n",
    "        slng = spos[0]\n",
    "        slat = spos[1]\n",
    "        elng = epos[0]\n",
    "        elat = epos[1]\n",
    "        lng = slng*ratio1 + elng*ratio2\n",
    "        lat = slat*ratio1 + elat*ratio2\n",
    "\n",
    "    if (len(shape.points) > 2):\n",
    "        val = []\n",
    "        val.append(int(fixRecord(record[3])))\n",
    "        val.append(int(fixRecord(record[4])))\n",
    "        val.append(int(fixRecord(record[7])))\n",
    "        val.append(int(fixRecord(record[8])))\n",
    "        val = np.array(val)\n",
    "        points = np.array(shape.points)\n",
    "        points = np.mean(points,axis=0)\n",
    "        if (dp.lat == 0 and record[5] != str(dp.zipcode) and record[9] != str(dp.zipcode)):\n",
    "            print(dp.address,dp.zipcode,' -> ',np.min(val),np.max(val),record[12],record[5],record[9])\n",
    "        lng = points[0]\n",
    "        lat = points[1]\n",
    "\n",
    "    #If fixed lat/lng pair already provided\n",
    "    if (dp.lat > 0):\n",
    "        lng = dp.lng\n",
    "        lat = dp.lat\n",
    "    \n",
    "    #Add\n",
    "    lats.append(lat)\n",
    "    lngs.append(lng)\n",
    "\n",
    "#Store\n",
    "data['lat'] = lats\n",
    "data['lng'] = lngs   \n",
    "data.to_csv('../data/tables/chains_with_lat_lng.csv',index=False)"
   ]
  }
 ],
 "metadata": {
  "kernelspec": {
   "display_name": "Python 3",
   "language": "python",
   "name": "python3"
  },
  "language_info": {
   "codemirror_mode": {
    "name": "ipython",
    "version": 3
   },
   "file_extension": ".py",
   "mimetype": "text/x-python",
   "name": "python",
   "nbconvert_exporter": "python",
   "pygments_lexer": "ipython3",
   "version": "3.7.6"
  }
 },
 "nbformat": 4,
 "nbformat_minor": 4
}
