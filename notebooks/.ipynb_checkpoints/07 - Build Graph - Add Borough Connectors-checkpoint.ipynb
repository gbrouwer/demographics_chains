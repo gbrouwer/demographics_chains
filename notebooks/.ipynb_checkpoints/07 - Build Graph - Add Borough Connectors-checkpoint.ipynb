{
 "cells": [
  {
   "cell_type": "markdown",
   "metadata": {},
   "source": [
    "### Import"
   ]
  },
  {
   "cell_type": "code",
   "execution_count": 1,
   "metadata": {},
   "outputs": [],
   "source": [
    "import os\n",
    "import sys\n",
    "import pandas as pd\n",
    "import numpy as np\n",
    "import shapefile\n",
    "import re\n",
    "import pickle\n",
    "import networkx as nx\n",
    "import matplotlib.pyplot as plt\n",
    "from matplotlib.patches import Polygon as polygon\n",
    "from matplotlib.collections import PatchCollection as patchCollection\n",
    "from tqdm import tqdm\n",
    "from collections import Counter\n",
    "from scipy.spatial.distance import cdist\n",
    "from scipy.spatial.distance import pdist"
   ]
  },
  {
   "cell_type": "markdown",
   "metadata": {},
   "source": [
    "### Borough Codes"
   ]
  },
  {
   "cell_type": "code",
   "execution_count": 2,
   "metadata": {},
   "outputs": [],
   "source": [
    "B = {}\n",
    "B['manhattan'] = 1\n",
    "B['thebronx'] = 2\n",
    "B['brooklyn'] = 3\n",
    "B['queens'] = 4\n",
    "B['statenisland'] = 5"
   ]
  },
  {
   "cell_type": "markdown",
   "metadata": {},
   "source": [
    "### Load Graphs"
   ]
  },
  {
   "cell_type": "code",
   "execution_count": 3,
   "metadata": {},
   "outputs": [],
   "source": [
    "A = []\n",
    "A.append({})\n",
    "A.append(pickle.load(open(\"../data/graphs/nyc_manhattan.p\",\"rb\")))\n",
    "A.append(pickle.load(open(\"../data/graphs/nyc_thebronx.p\",\"rb\")))\n",
    "A.append(pickle.load(open(\"../data/graphs/nyc_brooklyn.p\",\"rb\")))\n",
    "A.append(pickle.load(open(\"../data/graphs/nyc_queens.p\",\"rb\")))\n",
    "A.append(pickle.load(open(\"../data/graphs/nyc_statenisland.p\",\"rb\")))"
   ]
  },
  {
   "cell_type": "markdown",
   "metadata": {},
   "source": [
    "### Extract Info Helper Function"
   ]
  },
  {
   "cell_type": "code",
   "execution_count": 4,
   "metadata": {},
   "outputs": [],
   "source": [
    "def extractInfo(borough,A,B):\n",
    "    \n",
    "    #Extract\n",
    "    index = B[borough]\n",
    "    X = A[index]\n",
    "    G = X['G']\n",
    "    O = X['O']\n",
    "    N = X['N']\n",
    "    streets = X['streets']\n",
    "    coordsdf = X['coordsdf']\n",
    "    edges = X['edges']\n",
    "    nodes = X['nodes']\n",
    "    nodenames = X['nodenames']\n",
    "\n",
    "    #Restrict\n",
    "    streets = streets[['borocode', 'id', 'orig_id',\\\n",
    "                       'l_high_hn', 'l_low_hn', 'l_zip',\\\n",
    "                       'r_high_hn', 'r_low_hn', 'r_zip',\\\n",
    "                       'shape_leng', 'st_label', 'trafdir',\\\n",
    "                       'slng', 'slat', 'elng', 'elat',\\\n",
    "                       'sendpoint','eendpoint','endpoint']]\n",
    "\n",
    "    #Return\n",
    "    return G,O,N,streets,coordsdf,edges,nodes,nodenames"
   ]
  },
  {
   "cell_type": "markdown",
   "metadata": {},
   "source": [
    "### Add Borough to Node Names Helper Function"
   ]
  },
  {
   "cell_type": "code",
   "execution_count": 5,
   "metadata": {},
   "outputs": [],
   "source": [
    "def addBoroughNameToNodes(nodes,nodenames,edges,borough):\n",
    "    \n",
    "    #Add Borough to nodes\n",
    "    newnodes = []\n",
    "    newnames = []\n",
    "    newedgenames = []\n",
    "    for n,node in enumerate(nodes):\n",
    "        newnode = {}\n",
    "        for item in node:\n",
    "            newitem = str(item) + '-' + borough\n",
    "            newnode[newitem] = node[item]\n",
    "        newname = nodenames[n] + ' | ' + borough.upper()\n",
    "        newnames.append(newname)\n",
    "        newnodes.append(newnode)\n",
    "    \n",
    "    #Add Borough Name\n",
    "    for i in range(len(edges)):\n",
    "        node1,node2,length = edges[i]\n",
    "        node1 = node1 + ' | ' + borough.upper()\n",
    "        node2 = node2 + ' | ' + borough.upper() \n",
    "        edges[i] = (node1,node2,length)\n",
    "\n",
    "    #Return\n",
    "    return newnodes,newnames,newedgenames"
   ]
  },
  {
   "cell_type": "markdown",
   "metadata": {},
   "source": [
    "### Get Borough Data"
   ]
  },
  {
   "cell_type": "code",
   "execution_count": 6,
   "metadata": {},
   "outputs": [],
   "source": [
    "Bdata = {}\n",
    "boroughs = list(B.keys())\n",
    "for borough in boroughs:\n",
    "    G,O,N,streets,coordsdf,edges,nodes,nodena = extractInfo(borough,A,B)\n",
    "    Bdata[borough] = (G,O,N,streets,coordsdf,edges,nodes,nodena)"
   ]
  },
  {
   "cell_type": "markdown",
   "metadata": {},
   "source": [
    "### Find indices of streets that are not fully connected"
   ]
  },
  {
   "cell_type": "code",
   "execution_count": 7,
   "metadata": {},
   "outputs": [],
   "source": [
    "for borough in boroughs:\n",
    "    (G,O,N,streets,coordsdf,edges,nodes,nodena) = Bdata[borough]\n",
    "    s1 = streets[streets['sendpoint'] > 0.0]\n",
    "    e1 = streets[streets['eendpoint'] > 0.0]\n",
    "    cstreets = pd.concat((s1,e1),axis=0)\n",
    "    slnglat = cstreets[['slng','slat']].values\n",
    "    elnglat = cstreets[['elng','elat']].values\n",
    "    Bdata[borough] = (G,O,N,streets,coordsdf,edges,nodes,nodena,cstreets,slnglat,elnglat)"
   ]
  },
  {
   "cell_type": "markdown",
   "metadata": {},
   "source": [
    "### Connection Node Creator"
   ]
  },
  {
   "cell_type": "code",
   "execution_count": 8,
   "metadata": {},
   "outputs": [],
   "source": [
    "def connectionNodeCreator(pos1,pos2,type1,type2,streets1,streets2,borough1,borough2):\n",
    "\n",
    "    #Create New Connection Nodes\n",
    "    nodenames = []\n",
    "    nodes = []\n",
    "    for i in range(len(pos1)):\n",
    "        i1 = pos1[i]\n",
    "        i2 = pos2[i]\n",
    "        index1 = streets1.iloc[i1].id\n",
    "        index2 = streets2.iloc[i2].id\n",
    "        name1 = streets1.iloc[i1].st_label.upper()\n",
    "        name2 = streets2.iloc[i2].st_label.upper()\n",
    "        lng = streets1.iloc[i1].elng\n",
    "        lat = streets1.iloc[i1].elat\n",
    "        nodename = name1 + ' | ' + name2 + ' | ' + str(lng) + ' | ' + str(lat) + ' | ' + borough1.upper() + ' <-> ' + borough2.upper()\n",
    "        index1 = str(index1) + '-' + borough1\n",
    "        index2 = str(index2) + '-' + borough2\n",
    "        node = {index1:type1,index2:type2}    \n",
    "        nodenames.append(nodename)\n",
    "        nodes.append(node)        \n",
    "\n",
    "    #Return\n",
    "    return nodes,nodenames"
   ]
  },
  {
   "cell_type": "markdown",
   "metadata": {},
   "source": [
    "### Add Borough and height to Node Names"
   ]
  },
  {
   "cell_type": "code",
   "execution_count": 9,
   "metadata": {},
   "outputs": [],
   "source": [
    "newedges = []\n",
    "newnodes = []\n",
    "newnodenames = []\n",
    "for borough in boroughs:\n",
    "    (G,O,N,streets,coordsdf,edges,nodes,nodena,cstreets,slnglat,elnglat) = Bdata[borough]\n",
    "    newnodes_tmp,newnodenames_tmp, edgenames_tmp = addBoroughNameToNodes(nodes,nodena,edges,borough)\n",
    "    newedges = newedges + edges\n",
    "    newnodes = newnodes + newnodes_tmp\n",
    "    newnodenames = newnodenames + newnodenames_tmp"
   ]
  },
  {
   "cell_type": "markdown",
   "metadata": {},
   "source": [
    "### Compute Distance Matrices and create Nodes"
   ]
  },
  {
   "cell_type": "code",
   "execution_count": 10,
   "metadata": {},
   "outputs": [
    {
     "name": "stdout",
     "output_type": "stream",
     "text": [
      "manhattan  <->  thebronx\n",
      "manhattan  <->  brooklyn\n",
      "manhattan  <->  queens\n",
      "manhattan  <->  statenisland\n",
      "thebronx  <->  brooklyn\n",
      "thebronx  <->  queens\n",
      "thebronx  <->  statenisland\n",
      "brooklyn  <->  queens\n",
      "brooklyn  <->  statenisland\n",
      "queens  <->  statenisland\n"
     ]
    }
   ],
   "source": [
    "mindistance = 0.00000001\n",
    "for b1,borough1 in enumerate(boroughs):\n",
    "    for b2,borough2 in enumerate(boroughs[b1+1:]):\n",
    "     \n",
    "        #Create Connection Nodes\n",
    "        print(borough1,' <-> ',borough2)\n",
    "        (G1,O1,N1,streets1,coordsdf1,edges1,nodes1,nodena1,cstreets1,s1lnglat,e1lnglat) = Bdata[borough1]\n",
    "        (G2,O2,N2,streets2,coordsdf2,edges2,nodes2,nodena2,cstreets2,s2lnglat,e2lnglat) = Bdata[borough2]    \n",
    "        D1 = cdist(s1lnglat,s2lnglat)\n",
    "        D2 = cdist(e1lnglat,e2lnglat)\n",
    "        D3 = cdist(s1lnglat,e2lnglat)\n",
    "        D4 = cdist(e1lnglat,s2lnglat)\n",
    "        pos1,pos2 = np.where(D1 < mindistance)\n",
    "        nodes1,nodenames1 = connectionNodeCreator(pos1,pos2,'s','s',cstreets1,cstreets2,borough1,borough2)\n",
    "        pos1,pos2 = np.where(D2 < mindistance)\n",
    "        nodes2,nodenames2 = connectionNodeCreator(pos1,pos2,'e','e',cstreets1,cstreets2,borough1,borough2)\n",
    "        pos1,pos2 = np.where(D3 < mindistance)\n",
    "        nodes3,nodenames3 = connectionNodeCreator(pos1,pos2,'s','e',cstreets1,cstreets2,borough1,borough2)\n",
    "        pos1,pos2 = np.where(D4 < mindistance)\n",
    "        nodes4,nodenames4 = connectionNodeCreator(pos1,pos2,'e','s',cstreets1,cstreets2,borough1,borough2)\n",
    "        connodes = nodes1 + nodes2 + nodes3 + nodes4\n",
    "        connodenames = nodenames1 + nodenames2 + nodenames3 + nodenames4\n",
    "\n",
    "        #Add Nodes to existing bag of nodes\n",
    "        for n,node1 in enumerate(connodes):\n",
    "\n",
    "            #Create element in node to look for\n",
    "            nodename1 = connodenames[n]\n",
    "            for orig_edge in node1:\n",
    "                elements = orig_edge.split('-')\n",
    "                edge = int(elements[0])\n",
    "                borough = elements[1]\n",
    "                if borough == borough1:\n",
    "                    street = streets1.iloc[edge]\n",
    "                    length = street.shape_leng\n",
    "                if borough == borough2:\n",
    "                    street = streets2.iloc[edge]\n",
    "                    length = street.shape_leng\n",
    "                edgetype = node1[orig_edge]\n",
    "                for o,node2 in enumerate(newnodes):\n",
    "                    nodename2 = newnodenames[o]\n",
    "                    if (edgetype == 's'):\n",
    "                        othertype = 'e'\n",
    "                    else:\n",
    "                        othertype = 's'\n",
    "                    if (orig_edge in node2):\n",
    "                        if (node2[orig_edge] == othertype):\n",
    "                            newedges.append((nodename1,nodename2,length))"
   ]
  },
  {
   "cell_type": "markdown",
   "metadata": {},
   "source": [
    "### Dictionaries"
   ]
  },
  {
   "cell_type": "code",
   "execution_count": 11,
   "metadata": {},
   "outputs": [],
   "source": [
    "N = {}\n",
    "O = {}\n",
    "Nlist = []\n",
    "for edge in newedges:\n",
    "    node1 = edge[0]\n",
    "    node2 = edge[1]\n",
    "    Nlist.append(node1)\n",
    "    Nlist.append(node2)\n",
    "Nlist = np.unique(Nlist)\n",
    "for i,item in enumerate(Nlist):\n",
    "    N[i] = item\n",
    "    O[item] = i"
   ]
  },
  {
   "cell_type": "markdown",
   "metadata": {},
   "source": [
    "### Create Graph from edges"
   ]
  },
  {
   "cell_type": "code",
   "execution_count": 12,
   "metadata": {},
   "outputs": [],
   "source": [
    "G = nx.Graph()\n",
    "edgedatabase = []\n",
    "for e,edge in enumerate(newedges):\n",
    "    node1 = edge[0]\n",
    "    node2 = edge[1]\n",
    "    index1 = O[node1]\n",
    "    index2 = O[node2]\n",
    "    length = float(edge[2])\n",
    "    if (length < 0):\n",
    "        print(node1,node2,length)\n",
    "    elements1 = node1.split(' | ')\n",
    "    elements2 = node2.split(' | ')\n",
    "    lat1 = float(elements1[-2])\n",
    "    lng1 = float(elements1[-3])\n",
    "    lat2 = float(elements2[-2])\n",
    "    lng2 = float(elements2[-3])\n",
    "    nodename1 = str(index1) + ' | ' + ' | '.join(elements1[:])\n",
    "    nodename2 = str(index2) + ' | ' + ' | '.join(elements2[:])\n",
    "    edgedatabase.append((index1,nodename1,lat1,lng2,index2,nodename2,lat2,lng2))\n",
    "    G.add_edge(index1,index2, weight=length)\n",
    "edgedatabase = pd.DataFrame(edgedatabase)\n",
    "edgedatabase.columns = ['index1','nodename1','lat1','lng1','index2','nodename2','lat2','lng2']"
   ]
  },
  {
   "cell_type": "markdown",
   "metadata": {},
   "source": [
    "### Find Random Nodes in Borough"
   ]
  },
  {
   "cell_type": "code",
   "execution_count": 13,
   "metadata": {},
   "outputs": [],
   "source": [
    "# for n in range(120342,130342):\n",
    "#     name = names[n]\n",
    "#     elements = name.split(' | ')\n",
    "#     if 'THEBRONX' in elements[-1]:\n",
    "#         if (np.random.random() < 0.001):\n",
    "#             print(n,name)"
   ]
  },
  {
   "cell_type": "markdown",
   "metadata": {},
   "source": [
    "### Select Orig and Dest Node"
   ]
  },
  {
   "cell_type": "code",
   "execution_count": 14,
   "metadata": {},
   "outputs": [
    {
     "name": "stdout",
     "output_type": "stream",
     "text": [
      "[100613 100614]\n",
      "[61177]\n"
     ]
    }
   ],
   "source": [
    "# destnames = ['BROADWAY','WASHINGTON PL','MANHATTAN']\n",
    "#orignames = ['79 ST','LINDEN BLVD','QUEENS']\n",
    "orignames = ['BRUCKNER BLVD','ELDER AVE','THEBRONX']\n",
    "destnames = ['ARTHUR KILL RD','DOANE AVE','STATENISLAND']\n",
    "nodenames1 = edgedatabase['nodename1'].values\n",
    "nodenames2 = edgedatabase['nodename2'].values\n",
    "origlist = []\n",
    "destlist = []\n",
    "for n in range(len(nodenames1)):\n",
    "    count = 0\n",
    "    for origname in orignames:\n",
    "        if origname in nodenames1[n]: count = count + 1\n",
    "    if (count > 2):\n",
    "        index = edgedatabase.iloc[n].index1\n",
    "        origlist.append(index)\n",
    "    count = 0\n",
    "    for origname in orignames:\n",
    "        if origname in nodenames2[n]: count = count + 1\n",
    "    if (count > 2): \n",
    "        index = edgedatabase.iloc[n].index2\n",
    "        origlist.append(index)\n",
    "for n in range(len(nodenames1)):\n",
    "    count = 0\n",
    "    for destname in destnames:\n",
    "        if destname in nodenames1[n]: count = count + 1\n",
    "    if (count > 2): \n",
    "        index = edgedatabase.iloc[n].index1\n",
    "        destlist.append(index)\n",
    "    count = 0\n",
    "    for destname in destnames:\n",
    "        if destname in nodenames2[n]: count = count + 1\n",
    "    if (count > 2): \n",
    "        index = edgedatabase.iloc[n].index2\n",
    "        destlist.append(index)\n",
    "origlist = np.unique(origlist)\n",
    "destlist = np.unique(destlist)\n",
    "print(origlist)\n",
    "print(destlist)"
   ]
  },
  {
   "cell_type": "markdown",
   "metadata": {},
   "source": [
    "### Run Dijkstra"
   ]
  },
  {
   "cell_type": "code",
   "execution_count": 15,
   "metadata": {},
   "outputs": [],
   "source": [
    "source = origlist[0]\n",
    "target = destlist[0]\n",
    "route = []\n",
    "path = nx.shortest_path(G, source=source, target=target)\n",
    "for i in range(len(path)-1):\n",
    "    orig = path[i]\n",
    "    dest = path[i+1]\n",
    "    weight = G[orig][dest]['weight']\n",
    "    node1 = N[orig]\n",
    "    node2 = N[dest]\n",
    "    elements1 = node1.split(' | ')\n",
    "    elements2 = node2.split(' | ')\n",
    "    route.append((float(elements1[-3]),float(elements1[-2])))\n",
    "route.append((float(elements1[-3]),float(elements1[-2])))\n",
    "route = np.array(route)"
   ]
  },
  {
   "cell_type": "markdown",
   "metadata": {},
   "source": [
    "### Read outline"
   ]
  },
  {
   "cell_type": "code",
   "execution_count": 16,
   "metadata": {},
   "outputs": [],
   "source": [
    "sf = shapefile.Reader('../data/shapefiles/nyc_outline/nyc_outline.shp')\n",
    "streetsShapeRecs = sf.shapeRecords()"
   ]
  },
  {
   "cell_type": "markdown",
   "metadata": {},
   "source": [
    "### Draw"
   ]
  },
  {
   "cell_type": "code",
   "execution_count": 17,
   "metadata": {},
   "outputs": [
    {
     "data": {
      "image/png": "[encoded data removed]",
      "text/plain": [
       "<Figure size 648x648 with 1 Axes>"
      ]
     },
     "metadata": {},
     "output_type": "display_data"
    }
   ],
   "source": [
    "points = np.array(streetsShapeRecs[0].shape.points)\n",
    "parts = streetsShapeRecs[0].shape.parts\n",
    "parts.append(points.shape[0])\n",
    "plt.style.use('dark_background')\n",
    "plt.figure(figsize=(9,9))\n",
    "for i in range(len(parts)-1):\n",
    "    spos = parts[i]\n",
    "    epos = parts[i+1]\n",
    "    polygon = points[spos:epos,:]\n",
    "    plt.plot(polygon[:,0],polygon[:,1],c='w',linewidth=1);\n",
    "plt.plot(route[:,0],route[:,1],c='r',linewidth=1);"
   ]
  },
  {
   "cell_type": "code",
   "execution_count": 18,
   "metadata": {},
   "outputs": [],
   "source": [
    "X = {}\n",
    "X['O'] = O\n",
    "X['N'] = N\n",
    "X['edges'] = newedges\n",
    "X['nodes'] = newnodes + connodes \n",
    "X['nodenames'] = newnodenames + connodenames\n",
    "X['edgedatabase'] = edgedatabase\n",
    "X['G'] = G\n",
    "X['Nlist'] = Nlist\n",
    "X['streets'] = streets\n",
    "pickle.dump(X,open('../data/graphs/nyc.p',\"wb\"))"
   ]
  }
 ],
 "metadata": {
  "kernelspec": {
   "display_name": "Python 3",
   "language": "python",
   "name": "python3"
  },
  "language_info": {
   "codemirror_mode": {
    "name": "ipython",
    "version": 3
   },
   "file_extension": ".py",
   "mimetype": "text/x-python",
   "name": "python",
   "nbconvert_exporter": "python",
   "pygments_lexer": "ipython3",
   "version": "3.8.6"
  }
 },
 "nbformat": 4,
 "nbformat_minor": 4
}
