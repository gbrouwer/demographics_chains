{
 "cells": [
  {
   "cell_type": "markdown",
   "metadata": {},
   "source": [
    "### Import"
   ]
  },
  {
   "cell_type": "code",
   "execution_count": 1,
   "metadata": {},
   "outputs": [],
   "source": [
    "import os\n",
    "import sys\n",
    "import pandas as pd\n",
    "import numpy as np"
   ]
  },
  {
   "cell_type": "markdown",
   "metadata": {},
   "source": [
    "### Get Available Files"
   ]
  },
  {
   "cell_type": "code",
   "execution_count": 2,
   "metadata": {},
   "outputs": [],
   "source": [
    "myfiles = []\n",
    "for root, dirs, files in os.walk(\"../data/processed/\", topdown=False):\n",
    "    for name in files:\n",
    "        if ('DS' not in name):\n",
    "            myfiles.append(os.path.join(root, name))"
   ]
  },
  {
   "cell_type": "markdown",
   "metadata": {},
   "source": [
    "### Parse Files"
   ]
  },
  {
   "cell_type": "code",
   "execution_count": 6,
   "metadata": {},
   "outputs": [],
   "source": [
    "bags = []\n",
    "for myfile in myfiles:\n",
    "    with open(myfile,'r') as f:\n",
    "        bag = []\n",
    "        for line in f:\n",
    "            line = line.rstrip()\n",
    "            if (len(line) > 0):\n",
    "                bag.append(line)\n",
    "            else:\n",
    "                bags.append(bag)\n",
    "                bag = []"
   ]
  },
  {
   "cell_type": "markdown",
   "metadata": {},
   "source": [
    "### Create Dataframe"
   ]
  },
  {
   "cell_type": "code",
   "execution_count": 7,
   "metadata": {},
   "outputs": [],
   "source": [
    "data = []\n",
    "for bag in bags:\n",
    "    chain = bag[0]\n",
    "    phoneno = bag[1]\n",
    "    address = bag[2]\n",
    "    line4 = bag[3]\n",
    "    elements = line4.split(',')\n",
    "    city = elements[0]\n",
    "    newelements = elements[1].split(' ')\n",
    "    state = newelements[1]\n",
    "    zipcode = newelements[2]\n",
    "    data.append((chain,address,phoneno,city,state,zipcode))\n",
    "data = pd.DataFrame(data)\n",
    "data.columns = ['chain','address','phoneno','city','state','zipcode']"
   ]
  },
  {
   "cell_type": "markdown",
   "metadata": {},
   "source": [
    "### Store"
   ]
  },
  {
   "cell_type": "code",
   "execution_count": 8,
   "metadata": {},
   "outputs": [],
   "source": [
    "data.to_csv('../data/tables/chains.csv',index=False)"
   ]
  }
 ],
 "metadata": {
  "kernelspec": {
   "display_name": "Python 3",
   "language": "python",
   "name": "python3"
  },
  "language_info": {
   "codemirror_mode": {
    "name": "ipython",
    "version": 3
   },
   "file_extension": ".py",
   "mimetype": "text/x-python",
   "name": "python",
   "nbconvert_exporter": "python",
   "pygments_lexer": "ipython3",
   "version": "3.7.6"
  }
 },
 "nbformat": 4,
 "nbformat_minor": 4
}
