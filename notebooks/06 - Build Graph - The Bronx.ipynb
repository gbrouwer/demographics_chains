{
 "cells": [
  {
   "cell_type": "markdown",
   "metadata": {},
   "source": [
    "### Import"
   ]
  },
  {
   "cell_type": "code",
   "execution_count": 1,
   "metadata": {},
   "outputs": [],
   "source": [
    "import os\n",
    "import sys\n",
    "import pandas as pd\n",
    "import numpy as np\n",
    "import shapefile\n",
    "import re\n",
    "import pickle\n",
    "import networkx as nx\n",
    "import matplotlib.pyplot as plt\n",
    "from scipy.spatial import KDTree\n",
    "from tqdm import tqdm\n",
    "from scipy.spatial.distance import squareform\n",
    "from scipy.spatial.distance import cdist\n",
    "from scipy.spatial.distance import pdist"
   ]
  },
  {
   "cell_type": "markdown",
   "metadata": {},
   "source": [
    "### Load Streets Shapefile"
   ]
  },
  {
   "cell_type": "code",
   "execution_count": 2,
   "metadata": {},
   "outputs": [],
   "source": [
    "borough = 'thebronx'\n",
    "sf1 = shapefile.Reader('../data/shapefiles/nyc_streets/nyc_streets_cleaned_' + borough + '.shp')\n",
    "streetsShapeRecs = sf1.shapeRecords()"
   ]
  },
  {
   "cell_type": "markdown",
   "metadata": {},
   "source": [
    "### Expand"
   ]
  },
  {
   "cell_type": "code",
   "execution_count": 3,
   "metadata": {},
   "outputs": [],
   "source": [
    "streets = []\n",
    "for i in range(len(streetsShapeRecs)):\n",
    "    \n",
    "    shape = streetsShapeRecs[i].shape\n",
    "    record = streetsShapeRecs[i].record\n",
    "    points = np.array(shape.points)\n",
    "    mylength = record[11]\n",
    "\n",
    "    #Compute segment contribution to total length\n",
    "    distances = []\n",
    "    for m in range(len(points)-1):\n",
    "        spos = points[m]\n",
    "        epos = points[m+1]\n",
    "        distances.append(np.sqrt((spos[0]-epos[0])**2 + (spos[1]-epos[1])**2))\n",
    "    distances = np.array(distances) / np.sum(distances)\n",
    "    lengths = distances * mylength\n",
    "\n",
    "    #Expand\n",
    "    for m in range(len(points)-1):\n",
    "        spos = points[m]\n",
    "        epos = points[m+1]\n",
    "        record[11] = lengths[m]\n",
    "        newrecord = record[:] + [spos[0],spos[1],epos[0],epos[1]]\n",
    "        streets.append(newrecord)\n",
    "\n",
    "#To DataFrame\n",
    "streets = pd.DataFrame(streets)\n",
    "streets.columns = ['borocode','frm_lvl_co','full_stree',\\\n",
    "                   'l_high_hn', 'l_low_hn', 'l_zip',\\\n",
    "                   'orig_id','r_high_hn', 'r_low_hn',\\\n",
    "                   'r_zip', 'rw_type', 'shape_leng','st_label',\\\n",
    "                   'st_name', 'to_lvl_co','trafdir',\\\n",
    "                   'slng','slat','elng','elat']\n",
    "streets['id'] = list(range(streets.shape[0]))\n",
    "streets = streets[['borocode','id','orig_id','l_high_hn', 'l_low_hn','l_zip', 'r_high_hn',\\\n",
    "               'r_low_hn', 'r_zip', 'shape_leng','st_label','trafdir','frm_lvl_co','to_lvl_co',\\\n",
    "               'slng','slat','elng','elat']]"
   ]
  },
  {
   "cell_type": "markdown",
   "metadata": {},
   "source": [
    "### Create Start and End Position Matrices"
   ]
  },
  {
   "cell_type": "code",
   "execution_count": 4,
   "metadata": {},
   "outputs": [],
   "source": [
    "scoords = streets[['slng','slat']].values\n",
    "ecoords = streets[['elng','elat']].values\n",
    "altitudes = streets[['frm_lvl_co','to_lvl_co']].values\n",
    "orig_ids = streets['orig_id'].astype(int).astype(str).values\n",
    "borocode = streets['borocode']\n",
    "scoords = pd.DataFrame(scoords)\n",
    "ecoords = pd.DataFrame(ecoords)\n",
    "scoords['mytype'] = 's'\n",
    "ecoords['mytype'] = 'e'\n",
    "scoords['altitude'] = altitudes[:,0]\n",
    "ecoords['altitude'] = altitudes[:,1]\n",
    "scoords['myindex'] = list(range(scoords.shape[0]))\n",
    "ecoords['myindex'] = list(range(ecoords.shape[0]))\n",
    "scoords['orig_ids'] = orig_ids\n",
    "ecoords['orig_ids'] = orig_ids\n",
    "scoords['borocode'] = borocode\n",
    "ecoords['borocode'] = borocode\n",
    "coordsdf = pd.concat((scoords,ecoords),axis=0)\n",
    "coordsdf.columns = ['lng','lat','mytype','altitude','myindex','orig_ids','borocode']"
   ]
  },
  {
   "cell_type": "markdown",
   "metadata": {},
   "source": [
    "### Build Tree"
   ]
  },
  {
   "cell_type": "code",
   "execution_count": 5,
   "metadata": {},
   "outputs": [],
   "source": [
    "mindistance = 0.00000001\n",
    "coordslatlng = coordsdf[['lng','lat']].values\n",
    "kdtree = KDTree(coordslatlng)"
   ]
  },
  {
   "cell_type": "markdown",
   "metadata": {},
   "source": [
    "### Compute distances"
   ]
  },
  {
   "cell_type": "code",
   "execution_count": 6,
   "metadata": {},
   "outputs": [
    {
     "name": "stderr",
     "output_type": "stream",
     "text": [
      "100%|██████████| 143164/143164 [22:19<00:00, 106.90it/s]\n"
     ]
    }
   ],
   "source": [
    "clusters = []\n",
    "for i in tqdm(range(coordslatlng.shape[0])):\n",
    "\n",
    "    #Current Point\n",
    "    myindex = coordsdf.iloc[i].myindex\n",
    "    mytype = coordsdf.iloc[i].mytype\n",
    "    myorig = coordsdf.iloc[i].orig_ids        \n",
    "    altitude1 = coordsdf.iloc[i].altitude       \n",
    "    street = streets.iloc[myindex]\n",
    "\n",
    "    #Find all points within mindistance\n",
    "    dis,ind = kdtree.query(coordslatlng[i,:],k=10)\n",
    "    keep = np.where(dis < mindistance)[0]\n",
    "    ind = ind[keep]\n",
    "    dis = dis[keep]\n",
    "    newind = []\n",
    "    for index in ind:\n",
    "        myindex = coordsdf.iloc[index].myindex\n",
    "        mytype = coordsdf.iloc[index].mytype\n",
    "        myorig = coordsdf.iloc[index].orig_ids       \n",
    "        altitude2 = coordsdf.iloc[index].altitude       \n",
    "        street = streets.iloc[myindex]\n",
    "        if (altitude1 == altitude2):\n",
    "            newind.append(index)\n",
    "    clusters.append(newind)"
   ]
  },
  {
   "cell_type": "markdown",
   "metadata": {},
   "source": [
    "### Create Nodes by clustering start and end points"
   ]
  },
  {
   "cell_type": "code",
   "execution_count": 7,
   "metadata": {},
   "outputs": [
    {
     "name": "stderr",
     "output_type": "stream",
     "text": [
      "100%|██████████| 143164/143164 [19:30<00:00, 122.31it/s]\n"
     ]
    }
   ],
   "source": [
    "mindistance = 0.00000001\n",
    "nodes = []\n",
    "nodenames = []\n",
    "coords = coordsdf[['lng','lat']].values\n",
    "for i in tqdm(range(len(clusters))):\n",
    "    cluster = clusters[i]\n",
    "    info = coordsdf.iloc[cluster]\n",
    "    lng = info['lng'].values[0]\n",
    "    lat = info['lat'].values[0]\n",
    "    altitudes = info['altitude'].values\n",
    "    node = {}\n",
    "    names = []\n",
    "    for j in range(info.shape[0]):\n",
    "        index = info.iloc[j].myindex\n",
    "        mytype = info.iloc[j].mytype\n",
    "        node[index] = mytype\n",
    "        names.append(streets.iloc[index].st_label)\n",
    "    unnames = np.unique(names)\n",
    "    unnames = np.sort(unnames)\n",
    "    nodename = ' | '.join(unnames)\n",
    "    if (len(unnames) == 1):\n",
    "        nodename = unnames[0] + ' | ' + unnames[0] \n",
    "    nodename = nodename + ' | ' + str(lng) + ' | ' + str(lat)\n",
    "    if node not in nodes:\n",
    "        nodes.append(node)\n",
    "        nodenames.append(nodename)"
   ]
  },
  {
   "cell_type": "markdown",
   "metadata": {},
   "source": [
    "### Find Edges"
   ]
  },
  {
   "cell_type": "code",
   "execution_count": 8,
   "metadata": {},
   "outputs": [
    {
     "name": "stderr",
     "output_type": "stream",
     "text": [
      "100%|██████████| 67471/67471 [1:18:05<00:00, 14.40it/s]  \n"
     ]
    }
   ],
   "source": [
    "edges = []\n",
    "for n in tqdm(range(len(nodes))):\n",
    "    \n",
    "    #Create element in node to look for\n",
    "    node1 = nodes[n]\n",
    "    nodename1 = nodenames[n]\n",
    "    for edge in node1:\n",
    "        street = streets.iloc[edge]\n",
    "        length = street.shape_leng\n",
    "        edgetype = node1[edge]\n",
    "        if (edgetype == 's'):\n",
    "            othertype = 'e'\n",
    "        else:\n",
    "            othertype = 's'\n",
    "        for o,node2 in enumerate(nodes):\n",
    "            if (edge in node2):\n",
    "                if (node2[edge] == othertype):\n",
    "                    nodename2 = nodenames[o]\n",
    "                    edges.append((nodename1,nodename2,length))"
   ]
  },
  {
   "cell_type": "markdown",
   "metadata": {},
   "source": [
    "### Nodename Dictionary"
   ]
  },
  {
   "cell_type": "code",
   "execution_count": 9,
   "metadata": {},
   "outputs": [],
   "source": [
    "N = {}\n",
    "O = {}\n",
    "Nlist = []\n",
    "for edge in edges:\n",
    "    node1 = edge[0]\n",
    "    node2 = edge[1]\n",
    "    Nlist.append(node1)\n",
    "    Nlist.append(node2)\n",
    "Nlist = np.unique(Nlist)\n",
    "for i,item in enumerate(Nlist):\n",
    "    N[i] = item\n",
    "    O[item] = i"
   ]
  },
  {
   "cell_type": "markdown",
   "metadata": {},
   "source": [
    "### Create NetworkX Graph"
   ]
  },
  {
   "cell_type": "code",
   "execution_count": 10,
   "metadata": {},
   "outputs": [
    {
     "name": "stderr",
     "output_type": "stream",
     "text": [
      "100%|██████████| 143172/143172 [00:00<00:00, 174295.44it/s]\n"
     ]
    }
   ],
   "source": [
    "G = nx.Graph()\n",
    "for edge in tqdm(edges):\n",
    "    node1 = edge[0]\n",
    "    node2 = edge[1]\n",
    "    index1 = O[node1]\n",
    "    index2 = O[node2]\n",
    "    length = float(edge[2])\n",
    "    elements1 = node1.split(' | ')\n",
    "    elements2 = node2.split(' | ')\n",
    "    nodename1 = ' | '.join(elements1[:-2])\n",
    "    nodename2 = ' | '.join(elements2[:-2])\n",
    "    G.add_edge(index1,index2, weight=length)"
   ]
  },
  {
   "cell_type": "markdown",
   "metadata": {},
   "source": [
    "### Run Dijkstra"
   ]
  },
  {
   "cell_type": "code",
   "execution_count": 15,
   "metadata": {},
   "outputs": [],
   "source": [
    "source = 50\n",
    "target = len(G)-1\n",
    "route = []\n",
    "path = nx.shortest_path(G, source=source, target=target)\n",
    "for i in range(len(path)-1):\n",
    "    orig = path[i]\n",
    "    dest = path[i+1]\n",
    "    weight = G[orig][dest]['weight']\n",
    "    node1 = N[orig]\n",
    "    node2 = N[dest]\n",
    "    elements1 = node1.split(' | ')\n",
    "    elements2 = node2.split(' | ')\n",
    "    route.append((float(elements1[-2]),float(elements1[-1])))\n",
    "route.append((float(elements1[-2]),float(elements1[-1])))\n",
    "route = np.array(route)"
   ]
  },
  {
   "cell_type": "markdown",
   "metadata": {},
   "source": [
    "### Read Outline"
   ]
  },
  {
   "cell_type": "code",
   "execution_count": 16,
   "metadata": {},
   "outputs": [],
   "source": [
    "sf = shapefile.Reader('../data/shapefiles/nyc_outline/nyc_outline.shp')\n",
    "streetsShapeRecs = sf.shapeRecords()"
   ]
  },
  {
   "cell_type": "markdown",
   "metadata": {},
   "source": [
    "### Visualize Path"
   ]
  },
  {
   "cell_type": "code",
   "execution_count": 17,
   "metadata": {},
   "outputs": [
    {
     "data": {
      "image/png": "[encoded data removed]",
      "text/plain": [
       "<Figure size 648x648 with 1 Axes>"
      ]
     },
     "metadata": {},
     "output_type": "display_data"
    }
   ],
   "source": [
    "points = np.array(streetsShapeRecs[0].shape.points)\n",
    "parts = streetsShapeRecs[0].shape.parts\n",
    "parts.append(points.shape[0])\n",
    "plt.style.use('dark_background')\n",
    "plt.figure(figsize=(9,9))\n",
    "for i in range(len(parts)-1):\n",
    "    spos = parts[i]\n",
    "    epos = parts[i+1]\n",
    "    polygon = points[spos:epos,:]\n",
    "    plt.plot(polygon[:,0],polygon[:,1],c='w',linewidth=1);\n",
    "plt.plot(route[:,0],route[:,1],c='r',linewidth=1);"
   ]
  },
  {
   "cell_type": "markdown",
   "metadata": {},
   "source": [
    "### Tag loose ends"
   ]
  },
  {
   "cell_type": "code",
   "execution_count": 13,
   "metadata": {},
   "outputs": [],
   "source": [
    "spositions = []\n",
    "epositions = []\n",
    "ids = streets['id'].values\n",
    "for node in nodes:\n",
    "    if (len(node) == 1):\n",
    "        for element in node:\n",
    "            index,edgetype = element,node[element]\n",
    "            if (edgetype == 's'):\n",
    "                spositions.append(index)\n",
    "            else:\n",
    "                epositions.append(index)\n",
    "spos = np.zeros((streets.shape[0]))\n",
    "epos = np.zeros((streets.shape[0]))\n",
    "spos[spositions] = 1\n",
    "epos[epositions] = 1\n",
    "streets['sendpoint'] = spos\n",
    "streets['eendpoint'] = epos\n",
    "streets['endpoint'] = spos + epos"
   ]
  },
  {
   "cell_type": "markdown",
   "metadata": {},
   "source": [
    "### Store"
   ]
  },
  {
   "cell_type": "code",
   "execution_count": 14,
   "metadata": {},
   "outputs": [],
   "source": [
    "X = {}\n",
    "X['G'] = G\n",
    "X['O'] = O\n",
    "X['N'] = N\n",
    "X['streets'] = streets\n",
    "X['coordsdf'] = coordsdf\n",
    "X['edges'] = edges\n",
    "X['nodes'] = nodes\n",
    "X['nodenames'] = nodenames\n",
    "pickle.dump(X,open('../data/graphs/nyc_' + borough + '.p',\"wb\"))"
   ]
  }
 ],
 "metadata": {
  "kernelspec": {
   "display_name": "Python 3",
   "language": "python",
   "name": "python3"
  },
  "language_info": {
   "codemirror_mode": {
    "name": "ipython",
    "version": 3
   },
   "file_extension": ".py",
   "mimetype": "text/x-python",
   "name": "python",
   "nbconvert_exporter": "python",
   "pygments_lexer": "ipython3",
   "version": "3.8.6"
  }
 },
 "nbformat": 4,
 "nbformat_minor": 4
}
