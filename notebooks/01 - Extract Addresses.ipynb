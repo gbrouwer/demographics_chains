{
 "cells": [
  {
   "cell_type": "markdown",
   "metadata": {},
   "source": [
    "### Import"
   ]
  },
  {
   "cell_type": "code",
   "execution_count": 17,
   "metadata": {},
   "outputs": [],
   "source": [
    "import os\n",
    "import sys\n",
    "import pandas as pd\n",
    "import numpy as np"
   ]
  },
  {
   "cell_type": "markdown",
   "metadata": {},
   "source": [
    "### Get Available Files"
   ]
  },
  {
   "cell_type": "code",
   "execution_count": 18,
   "metadata": {},
   "outputs": [],
   "source": [
    "myfiles = []\n",
    "for root, dirs, files in os.walk(\"../data/raw/\", topdown=False):\n",
    "    for name in files:\n",
    "        if ('DS' not in name):\n",
    "            myfiles.append(os.path.join(root, name))"
   ]
  },
  {
   "cell_type": "markdown",
   "metadata": {},
   "source": [
    "### Last line has zipcode and state"
   ]
  },
  {
   "cell_type": "code",
   "execution_count": 19,
   "metadata": {},
   "outputs": [],
   "source": [
    "def lastLineHasZipCodeAndState(lines):\n",
    "    \n",
    "    lastline = lines[-1]\n",
    "    if (len(lastline) > 8):\n",
    "        zipcode = lastline[-5:]\n",
    "        if (zipcode.isdigit() == True and 'NY' in lastline):\n",
    "            return True\n",
    "        else:\n",
    "            return False\n",
    "    else:\n",
    "        return False"
   ]
  },
  {
   "cell_type": "markdown",
   "metadata": {},
   "source": [
    "### Clean lines"
   ]
  },
  {
   "cell_type": "code",
   "execution_count": 20,
   "metadata": {},
   "outputs": [],
   "source": [
    "def cleanLines(lines):\n",
    "    \n",
    "    #Clean\n",
    "    toParse = lines[:-3]\n",
    "    toKeep = lines[-3:]\n",
    "    returnlines = []\n",
    "    for line in toParse:\n",
    "        elements = line.split(' ')\n",
    "        if ('.' in elements[0]):\n",
    "            returnlines = [' '.join(elements[1:])]\n",
    "    returnlines = returnlines + toKeep\n",
    "\n",
    "    #Return\n",
    "    return returnlines"
   ]
  },
  {
   "cell_type": "markdown",
   "metadata": {},
   "source": [
    "### Parse Files to etract name, address and zipcode"
   ]
  },
  {
   "cell_type": "code",
   "execution_count": 21,
   "metadata": {},
   "outputs": [
    {
     "name": "stdout",
     "output_type": "stream",
     "text": [
      "../data/raw/starbucks\n",
      "../data/raw/pretamanger\n",
      "../data/raw/popeyes\n",
      "../data/raw/tacobell\n",
      "../data/raw/mcdonalds\n",
      "../data/raw/papajohns\n",
      "../data/raw/dominos\n",
      "../data/raw/fiveguys\n",
      "../data/raw/chickfila\n",
      "../data/raw/checkers\n",
      "../data/raw/duanereade\n",
      "../data/raw/jambajuice\n",
      "../data/raw/shakeshack\n",
      "../data/raw/gristedes\n",
      "../data/raw/target\n",
      "../data/raw/nathandogs\n",
      "../data/raw/bestbuy\n",
      "../data/raw/burgerking\n",
      "../data/raw/justsalad\n",
      "../data/raw/chipotle\n",
      "../data/raw/metropcs\n",
      "../data/raw/baskinrobbins\n",
      "../data/raw/walmart\n",
      "../data/raw/kfc\n",
      "../data/raw/wallgreens\n",
      "../data/raw/smashburger\n",
      "../data/raw/wendys\n",
      "../data/raw/gap\n",
      "../data/raw/chopt\n",
      "../data/raw/wholefoods\n",
      "../data/raw/sweetgreen\n",
      "../data/raw/kmart\n",
      "../data/raw/cvs\n",
      "../data/raw/shoprite\n",
      "../data/raw/keyfood\n",
      "../data/raw/lepainquotidien\n",
      "../data/raw/ctown\n",
      "../data/raw/dagostino\n",
      "../data/raw/att\n",
      "../data/raw/foodemporium\n",
      "../data/raw/foodcity\n",
      "../data/raw/subway\n",
      "../data/raw/panera\n",
      "../data/raw/dunkin\n",
      "../data/raw/tmobile\n"
     ]
    }
   ],
   "source": [
    "for myfile in myfiles:\n",
    "    bag = []\n",
    "    lines = []\n",
    "    print(myfile)\n",
    "    with open(myfile,'r') as f:\n",
    "        for i in range(8):\n",
    "            line = f.readline()\n",
    "            lines.append(line.rstrip())\n",
    "        for line in f:\n",
    "            lines = lines[1:]\n",
    "            lines.append(line.rstrip())\n",
    "            if (lastLineHasZipCodeAndState(lines) == True):\n",
    "                newlines = cleanLines(lines)\n",
    "                bag.append(newlines)\n",
    "    savefile = myfile.replace('raw','extracted')\n",
    "    with open(savefile,'w') as f:\n",
    "        for item in bag:\n",
    "            for line in item:\n",
    "                f.write(line + '\\n')\n",
    "            f.write('\\n')"
   ]
  },
  {
   "cell_type": "code",
   "execution_count": null,
   "metadata": {},
   "outputs": [],
   "source": []
  }
 ],
 "metadata": {
  "kernelspec": {
   "display_name": "Python 3",
   "language": "python",
   "name": "python3"
  },
  "language_info": {
   "codemirror_mode": {
    "name": "ipython",
    "version": 3
   },
   "file_extension": ".py",
   "mimetype": "text/x-python",
   "name": "python",
   "nbconvert_exporter": "python",
   "pygments_lexer": "ipython3",
   "version": "3.7.6"
  }
 },
 "nbformat": 4,
 "nbformat_minor": 4
}
