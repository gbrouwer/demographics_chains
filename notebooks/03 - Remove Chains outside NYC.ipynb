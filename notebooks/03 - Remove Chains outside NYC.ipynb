{
 "cells": [
  {
   "cell_type": "markdown",
   "metadata": {},
   "source": [
    "### Import"
   ]
  },
  {
   "cell_type": "code",
   "execution_count": 1,
   "metadata": {},
   "outputs": [],
   "source": [
    "import os\n",
    "import sys\n",
    "import pandas as pd\n",
    "import numpy as np"
   ]
  },
  {
   "cell_type": "markdown",
   "metadata": {},
   "source": [
    "### Load Streets"
   ]
  },
  {
   "cell_type": "code",
   "execution_count": 2,
   "metadata": {},
   "outputs": [],
   "source": [
    "zipcodes = pd.read_csv('../data/tables/nyc_zipcodes.csv')\n",
    "zipcodes = zipcodes['ZCTA5CE10'].values.tolist()\n",
    "zipcodes.append(10055)\n",
    "zipcodes.append(10118)\n",
    "zipcodes.append(10158)\n",
    "zipcodes.append(10107)\n",
    "zipcodes.append(10104)\n",
    "zipcodes.append(10105)\n",
    "zipcodes.append(10123)\n",
    "zipcodes.append(10281)\n",
    "zipcodes.append(11249)\n",
    "zipcodes.append(10121)\n",
    "zipcodes.append(10106)\n",
    "zipcodes.append(11241)\n",
    "zipcodes.append(11243)\n",
    "zipcodes.append(11252)\n",
    "zipcodes.append(11439)"
   ]
  },
  {
   "cell_type": "markdown",
   "metadata": {},
   "source": [
    "### Load Chains"
   ]
  },
  {
   "cell_type": "code",
   "execution_count": 12,
   "metadata": {},
   "outputs": [],
   "source": [
    "data = pd.read_csv('../data/tables/chains.csv')"
   ]
  },
  {
   "cell_type": "markdown",
   "metadata": {},
   "source": [
    "### Determine which records to keep"
   ]
  },
  {
   "cell_type": "code",
   "execution_count": 13,
   "metadata": {},
   "outputs": [],
   "source": [
    "mylist = []\n",
    "indices = []\n",
    "for i in range(data.shape[0]):\n",
    "    dp = data.iloc[i]\n",
    "    thiscode = dp.zipcode\n",
    "    if thiscode in zipcodes:\n",
    "        indices.append(i)"
   ]
  },
  {
   "cell_type": "markdown",
   "metadata": {},
   "source": [
    "### Restrict and safe"
   ]
  },
  {
   "cell_type": "code",
   "execution_count": 14,
   "metadata": {},
   "outputs": [],
   "source": [
    "data = data.iloc[indices]\n",
    "data.to_csv('../data/tables/chains_cleaned.csv',index=False)"
   ]
  }
 ],
 "metadata": {
  "kernelspec": {
   "display_name": "Python 3",
   "language": "python",
   "name": "python3"
  },
  "language_info": {
   "codemirror_mode": {
    "name": "ipython",
    "version": 3
   },
   "file_extension": ".py",
   "mimetype": "text/x-python",
   "name": "python",
   "nbconvert_exporter": "python",
   "pygments_lexer": "ipython3",
   "version": "3.7.6"
  }
 },
 "nbformat": 4,
 "nbformat_minor": 4
}
