{
 "cells": [
  {
   "cell_type": "markdown",
   "metadata": {},
   "source": [
    "### Import"
   ]
  },
  {
   "cell_type": "code",
   "execution_count": null,
   "metadata": {},
   "outputs": [],
   "source": [
    "import os\n",
    "import sys\n",
    "import pandas as pd\n",
    "import numpy as np\n",
    "import shapefile\n",
    "import re\n",
    "import pickle\n",
    "import time\n",
    "import networkx as nx\n",
    "import matplotlib.pyplot as plt\n",
    "from scipy.spatial import KDTree\n",
    "from tqdm import tqdm\n",
    "from collections import Counter\n",
    "from scipy.spatial.distance import cdist\n",
    "from scipy.spatial.distance import pdist"
   ]
  },
  {
   "cell_type": "markdown",
   "metadata": {},
   "source": [
    "### Load Tract Data"
   ]
  },
  {
   "cell_type": "code",
   "execution_count": null,
   "metadata": {},
   "outputs": [],
   "source": [
    "tractdata = pd.read_csv('../data/acs/nyc_tracts/nyc_tracts_census_geo_node.csv')"
   ]
  },
  {
   "cell_type": "markdown",
   "metadata": {},
   "source": [
    "### Load Chain Data"
   ]
  },
  {
   "cell_type": "code",
   "execution_count": null,
   "metadata": {},
   "outputs": [],
   "source": [
    "chaindata = pd.read_csv('../data/tables/chains_with_nodes.csv')"
   ]
  },
  {
   "cell_type": "markdown",
   "metadata": {},
   "source": [
    "### Load Graph"
   ]
  },
  {
   "cell_type": "code",
   "execution_count": null,
   "metadata": {},
   "outputs": [],
   "source": [
    "X = pickle.load(open(\"../data/graphs/nyc.p\",\"rb\"))\n",
    "O = X['O']\n",
    "N = X['N']\n",
    "edges = X['edges']\n",
    "nodes = X['nodes']\n",
    "nodenames = X['nodenames']\n",
    "edgedatabase = X['edgedatabase']\n",
    "G = X['G']\n",
    "Nlist = X['Nlist'].tolist()\n",
    "pickle.dump(X,open('../data/graphs/nyc.p',\"wb\"))"
   ]
  },
  {
   "cell_type": "markdown",
   "metadata": {},
   "source": [
    "### Create Tract Index List"
   ]
  },
  {
   "cell_type": "code",
   "execution_count": null,
   "metadata": {},
   "outputs": [],
   "source": [
    "tractlist = []\n",
    "for i in range(tractdata.shape[0]):\n",
    "    tractdp = tractdata.iloc[i]\n",
    "    tract_node_name = tractdp.node_name.split(' | ')\n",
    "    tract_node_name = ' | '.join(tract_node_name[1:])\n",
    "    index = Nlist.index(tract_node_name)\n",
    "    tractlist.append(index)\n",
    "tractlist = np.array(tractlist)\n",
    "tractdata['node_index'] = tractlist"
   ]
  },
  {
   "cell_type": "markdown",
   "metadata": {},
   "source": [
    "### Create Chain Index List"
   ]
  },
  {
   "cell_type": "code",
   "execution_count": null,
   "metadata": {},
   "outputs": [],
   "source": [
    "chainlist = []\n",
    "for i in range(chaindata.shape[0]):\n",
    "    chaindp = chaindata.iloc[i]\n",
    "    chain_node_name = chaindp.nodename\n",
    "    index = Nlist.index(chain_node_name)\n",
    "    chainlist.append(index)\n",
    "chainlist = np.array(chainlist)\n",
    "chaindata['node_index'] = chainlist"
   ]
  },
  {
   "cell_type": "markdown",
   "metadata": {},
   "source": [
    "### Find Isolated Nodes"
   ]
  },
  {
   "cell_type": "code",
   "execution_count": null,
   "metadata": {},
   "outputs": [],
   "source": [
    "#print(list(nx.isolates(G)))"
   ]
  },
  {
   "cell_type": "markdown",
   "metadata": {},
   "source": [
    "### Random Tract -> Chain Distance Computing"
   ]
  },
  {
   "cell_type": "code",
   "execution_count": null,
   "metadata": {},
   "outputs": [],
   "source": [
    "for i in tqdm(range(100)):\n",
    "    chainIndex = np.random.randint(len(chainlist))\n",
    "    tractIndex = np.random.randint(len(tractlist))\n",
    "    try:\n",
    "        path = nx.shortest_path(G, target=tractIndex,source=chainIndex)\n",
    "    except:\n",
    "        print(chainIndex,tractIndex)"
   ]
  },
  {
   "cell_type": "markdown",
   "metadata": {},
   "source": [
    "### Compute Length from Path"
   ]
  },
  {
   "cell_type": "code",
   "execution_count": null,
   "metadata": {},
   "outputs": [],
   "source": [
    "def computeLength(path,G,N):\n",
    "    \n",
    "    #Compute Length\n",
    "    totalLength = 0\n",
    "    for i in range(len(path)-1):\n",
    "        orig = path[i]\n",
    "        dest = path[i+1]\n",
    "        weight = G[orig][dest]['weight']\n",
    "        totalLength = totalLength + weight\n",
    "#         node1 = N[orig]\n",
    "#         node2 = N[dest]\n",
    "#         elements1 = node1.split(' | ')\n",
    "#         elements2 = node2.split(' | ')\n",
    "#         route.append((float(elements1[-3]),node1,node2,float(elements1[-2]),weight))\n",
    "#         route.append((float(elements1[-3]),node1,node2,float(elements1[-2]),weight))\n",
    "    \n",
    "    #To Dataframe\n",
    "    #route = pd.DataFrame(route)\n",
    "\n",
    "    #Return\n",
    "    return totalLength"
   ]
  },
  {
   "cell_type": "markdown",
   "metadata": {},
   "source": [
    "### Test Reachability of chain nodes"
   ]
  },
  {
   "cell_type": "code",
   "execution_count": null,
   "metadata": {},
   "outputs": [],
   "source": [
    "D = np.zeros((len(tractlist),len(chainlist)))\n",
    "P = {}\n",
    "starttime = time.time()\n",
    "for i in tqdm(range(len(tractlist))):\n",
    "    \n",
    "    #Compute all possible paths from source node (tract)\n",
    "    sourceIndex = tractlist[i]\n",
    "    sourceNodename = Nlist[sourceIndex]\n",
    "    paths = nx.shortest_path(G, source=sourceIndex)\n",
    "\n",
    "    #Keep only paths that lead to a chain occupied node\n",
    "    newpaths = {}\n",
    "    keylist = list(paths.keys())\n",
    "    for p in range(len(keylist)):\n",
    "        targetIndex = keylist[p]\n",
    "        path = paths[targetIndex]\n",
    "        targetNodeName = Nlist[targetIndex]\n",
    "        if (targetIndex in chainlist):\n",
    "            indices = np.where(chainlist == targetIndex)[0]\n",
    "            for index in indices:\n",
    "                totalLength = computeLength(path,G,N)\n",
    "#                 newpaths[index] = (targetIndex,path,totalLength)\n",
    "                D[i,index] = totalLength\n",
    "\n",
    "    #Add to bigger structure\n",
    "#     P[i] = newpaths\n",
    "endtime = time.time()\n",
    "elapsed = endtime - starttime\n",
    "print(elapsed)"
   ]
  },
  {
   "cell_type": "markdown",
   "metadata": {},
   "source": [
    "### Store Intermediate"
   ]
  },
  {
   "cell_type": "code",
   "execution_count": null,
   "metadata": {},
   "outputs": [],
   "source": [
    "X = {}\n",
    "# X['P'] = P\n",
    "X['D'] = D\n",
    "pickle.dump(X,open('../data/paths/nyc_path.p',\"wb\"))"
   ]
  },
  {
   "cell_type": "code",
   "execution_count": null,
   "metadata": {},
   "outputs": [],
   "source": [
    "startime = time.time()\n",
    "paths = nx.shortest_path(G)\n",
    "endtime = time.time()\n",
    "elapsed = endtime - starttime\n",
    "print(elapsed)"
   ]
  },
  {
   "cell_type": "code",
   "execution_count": null,
   "metadata": {},
   "outputs": [],
   "source": []
  }
 ],
 "metadata": {
  "kernelspec": {
   "display_name": "Python 3",
   "language": "python",
   "name": "python3"
  },
  "language_info": {
   "codemirror_mode": {
    "name": "ipython",
    "version": 3
   },
   "file_extension": ".py",
   "mimetype": "text/x-python",
   "name": "python",
   "nbconvert_exporter": "python",
   "pygments_lexer": "ipython3",
   "version": "3.7.6"
  }
 },
 "nbformat": 4,
 "nbformat_minor": 4
}
