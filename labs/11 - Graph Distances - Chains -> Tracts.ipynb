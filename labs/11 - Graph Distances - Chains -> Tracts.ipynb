{
 "cells": [
  {
   "cell_type": "markdown",
   "metadata": {},
   "source": [
    "### Import"
   ]
  },
  {
   "cell_type": "code",
   "execution_count": 1,
   "metadata": {},
   "outputs": [],
   "source": [
    "import os\n",
    "import sys\n",
    "import pandas as pd\n",
    "import numpy as np\n",
    "import shapefile\n",
    "import re\n",
    "import pickle\n",
    "import time\n",
    "import networkx as nx\n",
    "import matplotlib.pyplot as plt\n",
    "from scipy.spatial import KDTree\n",
    "from tqdm import tqdm\n",
    "from collections import Counter\n",
    "from scipy.spatial.distance import cdist\n",
    "from scipy.spatial.distance import pdist"
   ]
  },
  {
   "cell_type": "markdown",
   "metadata": {},
   "source": [
    "### Load Tract Data"
   ]
  },
  {
   "cell_type": "code",
   "execution_count": 2,
   "metadata": {},
   "outputs": [],
   "source": [
    "tractdata = pd.read_csv('../data/acs/nyc_tracts/nyc_tracts_census_geo_node.csv')"
   ]
  },
  {
   "cell_type": "markdown",
   "metadata": {},
   "source": [
    "### Load Chain Data"
   ]
  },
  {
   "cell_type": "code",
   "execution_count": 3,
   "metadata": {},
   "outputs": [],
   "source": [
    "chaindata = pd.read_csv('../data/tables/chains_with_nodes.csv')"
   ]
  },
  {
   "cell_type": "markdown",
   "metadata": {},
   "source": [
    "### Load Graph"
   ]
  },
  {
   "cell_type": "code",
   "execution_count": 4,
   "metadata": {},
   "outputs": [],
   "source": [
    "X = pickle.load(open(\"../data/graphs/nyc.p\",\"rb\"))\n",
    "O = X['O']\n",
    "N = X['N']\n",
    "edges = X['edges']\n",
    "nodes = X['nodes']\n",
    "nodenames = X['nodenames']\n",
    "edgedatabase = X['edgedatabase']\n",
    "streets = X['streets']\n",
    "G = X['G']\n",
    "Nlist = X['Nlist'].tolist()"
   ]
  },
  {
   "cell_type": "markdown",
   "metadata": {},
   "source": [
    "### Create Tract Index List"
   ]
  },
  {
   "cell_type": "code",
   "execution_count": 5,
   "metadata": {},
   "outputs": [],
   "source": [
    "tractlist = []\n",
    "for i in range(tractdata.shape[0]):\n",
    "    tractdp = tractdata.iloc[i]\n",
    "    tract_node_name = tractdp.node_name.split(' | ')\n",
    "    tract_node_name = ' | '.join(tract_node_name[1:])\n",
    "    index = Nlist.index(tract_node_name)\n",
    "    tractlist.append(index)\n",
    "tractdata['node_index'] = tractlist"
   ]
  },
  {
   "cell_type": "markdown",
   "metadata": {},
   "source": [
    "### Create Chain Index List"
   ]
  },
  {
   "cell_type": "code",
   "execution_count": 6,
   "metadata": {},
   "outputs": [],
   "source": [
    "chainlist = []\n",
    "chainnames = []\n",
    "for i in range(chaindata.shape[0]):\n",
    "    chaindp = chaindata.iloc[i]\n",
    "    chain_node_name = chaindp.nodename\n",
    "    index = Nlist.index(chain_node_name)\n",
    "    chainlist.append(index)\n",
    "chaindata['indexer'] = range(chaindata.shape[0])\n",
    "chaindata['chain_address'] = chaindata['indexer'].astype(str) + ' | '  + chaindata['chain'] + ' | ' + chaindata['address'] + ' | ' + chaindata['zipcode'].astype(str)\n",
    "chainnames = np.array(chaindata['chain'].values)\n",
    "chainaddress = np.array(chaindata['chain_address'].values)\n",
    "chaindata['node_index'] = chainlist"
   ]
  },
  {
   "cell_type": "markdown",
   "metadata": {},
   "source": [
    "### Get Lengths"
   ]
  },
  {
   "cell_type": "code",
   "execution_count": 7,
   "metadata": {},
   "outputs": [],
   "source": [
    "def computeLength(path,G):\n",
    "    \n",
    "    #Compute Length\n",
    "    lengths = []\n",
    "    for i in range(len(path)-1):\n",
    "        orig = path[i]\n",
    "        dest = path[i+1]\n",
    "        weight = G[orig][dest]['weight']\n",
    "        lengths.append(weight)\n",
    "\n",
    "    #Return\n",
    "    return lengths"
   ]
  },
  {
   "cell_type": "markdown",
   "metadata": {},
   "source": [
    "### Pair Exists in data"
   ]
  },
  {
   "cell_type": "code",
   "execution_count": 8,
   "metadata": {},
   "outputs": [],
   "source": [
    "def pairExists(source,target,chain,P):\n",
    "\n",
    "    #Top Level miss\n",
    "    exists = False\n",
    "    if (source not in P):\n",
    "        exists = False\n",
    "\n",
    "    #Source in top level P\n",
    "    if (source in P):\n",
    "        \n",
    "        #Get Target Items\n",
    "        target_items = P[source]\n",
    "        \n",
    "        #Loop through target items to see if they are keyed on target\n",
    "        for target_item in target_items:\n",
    "            key = list(target_item.keys())[0]\n",
    "\n",
    "            #If target is in P[source] determine whether chain occurs in target item\n",
    "            if (target == key):\n",
    "                chains,distance = target_item[key]\n",
    "                if (chain in chains):\n",
    "                    exists = True\n",
    "    \n",
    "    #Return\n",
    "    return exists"
   ]
  },
  {
   "cell_type": "markdown",
   "metadata": {},
   "source": [
    "### Create Mesh"
   ]
  },
  {
   "cell_type": "code",
   "execution_count": 9,
   "metadata": {},
   "outputs": [],
   "source": [
    "# stepSize = 10\n",
    "# tractmesh = list(range(0,len(tractlist),stepSize))\n",
    "# chainmesh = list(range(0,len(chainlist),stepSize))\n",
    "# tractmesh[-1] = len(tractlist)\n",
    "# chainmesh[-1] = len(chainlist)\n",
    "# M = {}\n",
    "# V = np.zeros((len(tractmesh)-1,len(chainmesh)-1))\n",
    "# for i in range(len(tractmesh)-1):\n",
    "#     for j in range(len(chainmesh)-1):\n",
    "#         xstart = tractmesh[i]\n",
    "#         xend = tractmesh[i+1]\n",
    "#         ystart = chainmesh[j]\n",
    "#         yend = chainmesh[j+1]\n",
    "#         M[i,j] = (xstart,xend,ystart,yend)\n",
    "\n",
    "# X = {}\n",
    "# X['M'] = M\n",
    "# X['V'] = V\n",
    "# pickle.dump(X,open('../data/meshes/nyc_mesh.p',\"wb\"))    "
   ]
  },
  {
   "cell_type": "markdown",
   "metadata": {},
   "source": [
    "### Store and Update Mesh"
   ]
  },
  {
   "cell_type": "code",
   "execution_count": 10,
   "metadata": {},
   "outputs": [],
   "source": [
    "def storeAndUpdate(M,V):\n",
    "    \n",
    "    #Update and Store\n",
    "    X = {}\n",
    "    X['M'] = M\n",
    "    X['V'] = V\n",
    "    pickle.dump(X,open('../data/meshes/nyc_mesh.p',\"wb\"))"
   ]
  },
  {
   "cell_type": "markdown",
   "metadata": {},
   "source": [
    "### Pick Random Submesh and Return "
   ]
  },
  {
   "cell_type": "code",
   "execution_count": 11,
   "metadata": {},
   "outputs": [],
   "source": [
    "def pickSubmesh():\n",
    "\n",
    "    #Unpack\n",
    "    X = pickle.load(open('../data/meshes/nyc_mesh.p',\"rb\"))\n",
    "    M = X['M']\n",
    "    V = X['V']\n",
    "\n",
    "    #Return -1 if V is completely filled\n",
    "    if (np.sum(V) == (V.shape[0] * V.shape[1])):\n",
    "        return (-1,-1,-1,-1),-1,-1,M,V\n",
    "        \n",
    "    #Pick Random submush\n",
    "    (posi,posj) = np.where(V < 1.0)\n",
    "    thisi = posi[np.random.randint(len(posi))]\n",
    "    thisj = posj[np.random.randint(len(posj))]\n",
    "    return M[(thisi,thisj)],thisi,thisj,M,V"
   ]
  },
  {
   "cell_type": "markdown",
   "metadata": {},
   "source": [
    "### Find Paths"
   ]
  },
  {
   "cell_type": "code",
   "execution_count": 12,
   "metadata": {},
   "outputs": [],
   "source": [
    "def findPaths(xs,xe,ys,ye,tractlist,chainlist,durations,G,D,P,unconnected):\n",
    "    \n",
    "    #Find Paths if necessary\n",
    "    durations = []\n",
    "    if (xs > -1):\n",
    "\n",
    "        #Loop\n",
    "        for i in range(xs,xe):\n",
    "            starttime = time.time()\n",
    "            for j in range(ys,ye):\n",
    "                if (D[i,j] == 0):\n",
    "                    \n",
    "                    #Get Source and Target Node Indices\n",
    "                    source =  tractlist[i]\n",
    "                    target = chainlist[j]\n",
    "\n",
    "                    #Try to run shortest path algorithm\n",
    "                    try:\n",
    "                        path = nx.shortest_path(G,source=source,target=target)\n",
    "                        pathlengths = computeLength(path,G)\n",
    "                    except:\n",
    "                        unconnected.append({source_index,target_index})\n",
    "                        path = []\n",
    "                        pathlengths = []\n",
    "\n",
    "                    #Find all subaths between tract and chain\n",
    "                    for p1 in range(len(path)):\n",
    "                        for p2 in range(p1+1,len(path)):\n",
    "                            source_index = path[p1]\n",
    "                            target_index = path[p2]\n",
    "                            if (source_index in tractlist):\n",
    "                                if (target_index in chainlist):\n",
    "                                    source_sub = tractlist.index(source_index)\n",
    "                                    target_sub = chainlist.index(target_index)\n",
    "                                    sub_length = np.sum(pathlengths[p1:p2])\n",
    "                                    sub_path = path[p1:p2]\n",
    "                                    D[source_sub,target_sub] = sub_length\n",
    "                                    P[source_sub] = {target_sub:sub_path}\n",
    "\n",
    "                    #Find all subaths between tract and chain (reverse)\n",
    "                    path = path[::-1]\n",
    "                    pathlengths = pathlengths[::-1]\n",
    "                    for p1 in range(len(path)):\n",
    "                        for p2 in range(p1+1,len(path)):\n",
    "                            source_index = path[p1]\n",
    "                            target_index = path[p2]\n",
    "                            if (source_index in tractlist):\n",
    "                                if (target_index in chainlist):\n",
    "                                    source_sub = tractlist.index(source_index)\n",
    "                                    target_sub = chainlist.index(target_index)\n",
    "                                    sub_length = np.sum(pathlengths[p1:p2])\n",
    "                                    D[source_sub,target_sub] = sub_length\n",
    "                                    P[source_sub] = {target_sub:sub_path}\n",
    "\n",
    "            #Stop the clock            \n",
    "            endtime = time.time()\n",
    "            durations.append(endtime-starttime)\n",
    "\n",
    "    #Return\n",
    "    return D,P,durations,unconnected"
   ]
  },
  {
   "cell_type": "markdown",
   "metadata": {},
   "source": [
    "### Find Paths with Intermediate Saves"
   ]
  },
  {
   "cell_type": "code",
   "execution_count": null,
   "metadata": {},
   "outputs": [
    {
     "name": "stdout",
     "output_type": "stream",
     "text": [
      "0 start run...\n",
      "15.10445778541646\n",
      "3.8306588123772767\n",
      "6 start run...\n",
      "15.106263838140544\n",
      "3.831505179768434\n",
      "7 start run...\n",
      "15.108576260787263\n",
      "3.832351547159591\n",
      "8 start run...\n",
      "15.109361134167354\n",
      "3.833197914550748\n",
      "10 start run...\n",
      "15.11037387401263\n",
      "3.8340442819419054\n",
      "11 start run...\n",
      "15.112711615155483\n",
      "3.834890649333063\n",
      "14 start run...\n",
      "15.113606202018811\n",
      "3.8357370167242193\n",
      "15 start run...\n",
      "15.115344738753208\n",
      "3.8365833841153765\n",
      "18 start run...\n",
      "15.116644421554648\n",
      "3.837429751506534\n",
      "19 start run...\n",
      "15.117243625963106\n",
      "3.8382761188976913\n",
      "20 start run...\n",
      "15.11975015708017\n",
      "3.8391224862888484\n",
      "23 start run...\n",
      "15.121286145845508\n",
      "3.8399688536800056\n",
      "24 start run...\n",
      "15.122526752155977\n",
      "3.8408152210711624\n",
      "25 start run...\n",
      "15.123716721474178\n",
      "3.8416615884623195\n",
      "26 start run...\n",
      "15.12530334723178\n",
      "3.8425079558534767\n",
      "29 start run...\n",
      "15.12577595915958\n",
      "3.843354323244634\n",
      "30 start run...\n",
      "15.12836688526375\n",
      "3.8442006906357915\n",
      "32 start run...\n",
      "15.12836688526375\n",
      "3.8442006906357915\n",
      "33 start run...\n",
      "15.129750963052297\n",
      "3.8450470580269487\n",
      "36 start run...\n",
      "15.13121943582795\n",
      "3.845893425418106\n",
      "37 start run...\n",
      "15.13351497947725\n",
      "3.8467397928092626\n",
      "38 start run...\n",
      "15.134493961327685\n",
      "3.8475861602004198\n",
      "44 start run...\n",
      "15.135616414656203\n",
      "3.848432527591577\n",
      "45 start run...\n",
      "15.136561638511795\n",
      "3.849278894982734\n",
      "46 start run...\n",
      "15.13804699028487\n",
      "3.8501252623738913\n",
      "47 start run...\n",
      "15.139034411634016\n",
      "3.8509716297650485\n",
      "48 start run...\n",
      "15.139034411634016\n",
      "3.8509716297650485\n",
      "49 start run...\n",
      "15.140806706363255\n",
      "3.851817997156205\n",
      "50 start run...\n",
      "15.141844764704665\n",
      "3.8526643645473624\n",
      "51 start run...\n",
      "15.143667696426169\n",
      "3.8535107319385196\n",
      "54 start run...\n",
      "15.144832347248238\n",
      "3.854357099329677\n",
      "56 start run...\n",
      "15.146714355460714\n",
      "3.8552034667208344\n",
      "57 start run...\n",
      "15.148005598763445\n",
      "3.8560498341119915\n",
      "58 start run...\n",
      "15.14938123705328\n",
      "3.8568962015031487\n",
      "59 start run...\n",
      "15.15052056937922\n",
      "3.8577425688943054\n",
      "60 start run...\n",
      "15.151837131178084\n",
      "3.8585889362854626\n",
      "61 start run...\n",
      "15.153330922449868\n",
      "3.85943530367662\n",
      "62 start run...\n",
      "15.154149553824803\n",
      "3.860281671067777\n",
      "64 start run...\n",
      "15.154149553824803\n",
      "3.860281671067777\n",
      "65 start run...\n",
      "15.156107517525674\n",
      "3.8611280384589346\n",
      "66 start run...\n",
      "15.157896691252331\n",
      "3.8619744058500918\n",
      "67 start run...\n",
      "15.1587406411234\n",
      "3.862820773241248\n",
      "68 start run...\n",
      "15.161643828679864\n",
      "3.8636671406324057\n",
      "69 start run...\n",
      "15.162656568525144\n",
      "3.864513508023563\n",
      "74 start run...\n",
      "15.164774882701519\n",
      "3.86535987541472\n",
      "76 start run...\n",
      "15.16647122194236\n",
      "3.866206242805877\n",
      "77 start run...\n",
      "15.167627433265718\n",
      "3.8670526101970344\n",
      "80 start run...\n",
      "15.169079027043953\n",
      "3.867898977588192\n",
      "81 start run...\n",
      "15.169576957467882\n",
      "3.8687453449793483\n",
      "82 start run...\n",
      "15.170817563778346\n",
      "3.8695917123705055\n",
      "86 start run...\n",
      "15.171948456605575\n",
      "3.870438079761663\n",
      "87 start run...\n",
      "15.17457314070459\n",
      "3.8712844471528203\n",
      "90 start run...\n",
      "15.175915020999584\n",
      "3.8721308145439775\n",
      "91 start run...\n",
      "15.177408812271368\n",
      "3.8729771819351346\n",
      "92 start run...\n",
      "15.179197985998027\n",
      "3.8738235493262914\n",
      "94 start run...\n",
      "15.180143209853622\n",
      "3.8746699167174485\n",
      "96 start run...\n",
      "15.180902764737581\n",
      "3.8755162841086057\n",
      "98 start run...\n",
      "15.18233747951839\n",
      "3.876362651499763\n",
      "100 start run...\n",
      "15.183308021870118\n",
      "3.8772090188909205\n",
      "101 start run...\n",
      "15.184523309684451\n",
      "3.8780553862820777\n",
      "105 start run...\n",
      "15.18641375739564\n",
      "3.878901753673235\n",
      "106 start run...\n",
      "15.188329523602956\n",
      "3.8797481210643916\n",
      "107 start run...\n",
      "15.188329523602956\n",
      "3.8797481210643916\n",
      "108 start run...\n",
      "15.189097517985628\n",
      "3.8805944884555488\n",
      "110 start run...\n",
      "15.18980643587732\n",
      "3.881440855846706\n",
      "111 start run...\n",
      "15.191004844694234\n",
      "3.882287223237863\n",
      "115 start run...\n",
      "15.192144177020172\n",
      "3.8831335906290203\n",
      "116 start run...\n",
      "15.192144177020172\n",
      "3.8831335906290203\n",
      "117 start run...\n",
      "15.19431312818881\n",
      "3.8839799580201775\n",
      "119 start run...\n",
      "15.196161378406444\n",
      "3.884826325411334\n",
      "120 start run...\n",
      "15.197351347724647\n",
      "3.8856726928024914\n",
      "123 start run...\n",
      "15.198119342107317\n",
      "3.8865190601936486\n",
      "126 start run...\n",
      "15.200457083250168\n",
      "3.887365427584806\n",
      "127 start run...\n",
      "15.201815842542585\n",
      "3.8882117949759634\n",
      "130 start run...\n",
      "15.203613455767954\n",
      "3.8890581623671205\n",
      "133 start run...\n",
      "15.205537661473983\n",
      "3.8899045297582777\n",
      "134 start run...\n",
      "15.206221260869546\n",
      "3.8907508971494345\n",
      "135 start run...\n",
      "15.20743654868388\n",
      "3.8915972645405916\n",
      "136 start run...\n",
      "15.209453588875729\n",
      "3.892443631931749\n",
      "137 start run...\n",
      "15.210086551279028\n",
      "3.893289999322906\n",
      "138 start run...\n",
      "15.211419992075312\n",
      "3.8941363667140636\n",
      "140 start run...\n",
      "15.21257620339867\n",
      "3.894982734105221\n",
      "143 start run...\n",
      "15.213293560789076\n",
      "3.895829101496377\n",
      "144 start run...\n",
      "15.21644993330686\n",
      "3.8966754688875347\n",
      "147 start run...\n",
      "15.218669521467765\n",
      "3.897521836278692\n",
      "148 start run...\n",
      "15.219859490785966\n",
      "3.898368203669849\n",
      "149 start run...\n",
      "15.220981944114484\n",
      "3.899214571061006\n",
      "150 start run...\n",
      "15.22300742380504\n",
      "3.9000609384521634\n",
      "151 start run...\n",
      "15.224391501593587\n",
      "3.9009073058433206\n",
      "154 start run...\n",
      "15.226653287248043\n",
      "3.9017536732344773\n",
      "155 start run...\n",
      "15.228999467889606\n",
      "3.9026000406256345\n",
      "156 start run...\n",
      "15.230366666680734\n",
      "3.9034464080167917\n",
      "157 start run...\n",
      "15.231337209032459\n",
      "3.9042927754079493\n",
      "158 start run...\n",
      "15.232510299353239\n",
      "3.9051391427991065\n",
      "161 start run...\n",
      "15.234189759596658\n",
      "3.9059855101902636\n",
      "162 start run...\n",
      "15.236333392269167\n",
      "3.9068318775814204\n",
      "163 start run...\n",
      "15.236333392269167\n",
      "3.9068318775814204\n",
      "168 start run...\n",
      "15.237751228052558\n",
      "3.9076782449725775\n",
      "169 start run...\n",
      "15.239177503334659\n",
      "3.9085246123637347\n",
      "170 start run...\n",
      "15.240072090197987\n",
      "3.909370979754892\n",
      "173 start run...\n",
      "15.241076390544556\n",
      "3.910217347146049\n"
     ]
    }
   ],
   "source": [
    "for i in range(1000):\n",
    "    \n",
    "    #Get Submesh\n",
    "    (xs,xe,ys,ye),posi,posj,M,V = pickSubmesh()\n",
    "\n",
    "    #Load Intermediate\n",
    "    if (os.path.isfile('../data/paths/nyc_paths.p')):\n",
    "        X = pickle.load(open('../data/paths/nyc_paths.p',\"rb\"))\n",
    "        D = X['D']\n",
    "        P = X['P']\n",
    "        durations = X['durations']\n",
    "        unconnected = X['unconnected']\n",
    "    else:\n",
    "        unconnected = []\n",
    "        durations = []\n",
    "        D = np.zeros((len(tractlist),len(chainlist)))\n",
    "        P = {}\n",
    "\n",
    "    #Run if matrix is already more or less full\n",
    "    Dsubset = D[xs:xe,ys:ye]\n",
    "    if (np.sum(Dsubset>0) > 10):\n",
    "        print(i,'start run...')\n",
    "        print(float(np.sum(D>1)) / float(D.shape[0]*D.shape[1]) * 100.0)\n",
    "        print(float(np.sum(V) /float(V.shape[0]*V.shape[1])) * 100.0)\n",
    "\n",
    "        #Find Paths\n",
    "        D,P,durations,unconnected = findPaths(xs,xe,ys,ye,tractlist,chainlist,durations,G,D,P,unconnected)\n",
    "\n",
    "        #Store Intermediate\n",
    "        X = {}\n",
    "        X['D'] = D\n",
    "        X['P'] = P\n",
    "        X['durations'] = durations\n",
    "        X['unconnected'] = unconnected\n",
    "        pickle.dump(X,open('../data/paths/nyc_paths.p',\"wb\"))\n",
    "\n",
    "        #Update Mesh\n",
    "        V[posi,posj] = 1\n",
    "        storeAndUpdate(M,V)"
   ]
  },
  {
   "cell_type": "code",
   "execution_count": 14,
   "metadata": {},
   "outputs": [
    {
     "name": "stdout",
     "output_type": "stream",
     "text": [
      "1789734\n",
      "11849045\n",
      "15.104457785416463\n"
     ]
    }
   ],
   "source": [
    "print(np.sum(D>1))\n",
    "print(D.shape[0]*D.shape[1])\n",
    "print(100.0*float(np.sum(D>1))/float(D.shape[0]*D.shape[1]))\n",
    "#prev1 = 780317\n",
    "#prev2 = 829720\n",
    "#prev3 = 875274\n",
    "#prev4 = 991589\n",
    "#prev5 = 1015162\n",
    "#prev6 = 1170880\n",
    "#prev7 = 1542826\n",
    "#prev8 = 1789734"
   ]
  },
  {
   "cell_type": "markdown",
   "metadata": {},
   "source": [
    "### Create Node space with distance a tract"
   ]
  },
  {
   "cell_type": "code",
   "execution_count": null,
   "metadata": {},
   "outputs": [],
   "source": [
    "data = []\n",
    "mychain = 'McDonalds'\n",
    "tractkeys = list(P.keys())\n",
    "nodeindex1 = tractkeys[0]\n",
    "for item in P[nodeindex1]:\n",
    "    nodeindex2,mychainlist,mydistance = nodeUnpacker(item)\n",
    "    node1 = N[nodeindex1]\n",
    "    node2 = N[nodeindex2]\n",
    "    elements1 = node1.split(' | ')\n",
    "    elements2 = node2.split(' | ')\n",
    "    lat1 = float(elements1[-3])\n",
    "    lng1 = float(elements1[-2])\n",
    "    lat2 = float(elements2[-3])\n",
    "    lng2 = float(elements2[-2])\n",
    "    chainindices = np.where(chainlist == nodeindex2)[0]\n",
    "    for c,chain_address in enumerate(mychainlist):\n",
    "        elements = chain_address.split(' | ')\n",
    "        data.append((lat1,lng1,lat2,lng2,chain_address,elements[1],mydistance))\n",
    "data = pd.DataFrame(data)\n",
    "data.columns = ['lat1','lng1','lat2','lng2','chain+address','chain','distance']\n",
    "data = data[data['chain'] == mychain]"
   ]
  },
  {
   "cell_type": "markdown",
   "metadata": {},
   "source": [
    "### Normalize"
   ]
  },
  {
   "cell_type": "code",
   "execution_count": null,
   "metadata": {},
   "outputs": [],
   "source": [
    "distances = data['distance'].values\n",
    "data['distance_norm'] = distances / np.max(distances)"
   ]
  },
  {
   "cell_type": "markdown",
   "metadata": {},
   "source": [
    "### Load Outline"
   ]
  },
  {
   "cell_type": "code",
   "execution_count": null,
   "metadata": {},
   "outputs": [],
   "source": [
    "sf = shapefile.Reader('../data/shapefiles/nyc_outline/nyc_outline.shp')\n",
    "streetsShapeRecs = sf.shapeRecords()\n",
    "points = np.array(streetsShapeRecs[0].shape.points)\n",
    "parts = streetsShapeRecs[0].shape.parts\n",
    "parts.append(points.shape[0])"
   ]
  },
  {
   "cell_type": "markdown",
   "metadata": {},
   "source": [
    "### Plot"
   ]
  },
  {
   "cell_type": "code",
   "execution_count": null,
   "metadata": {},
   "outputs": [],
   "source": [
    "B = data[['lat1','lng1']].values\n",
    "X = data[['lat2','lng2']].values\n",
    "rgb = np.zeros((X.shape[0],3))\n",
    "rgb[:,0] = data['distance_norm'].values\n",
    "rgb[:,1] = 0#data['distance_norm'].values**2\n",
    "rgb[:,2] = 1-data['distance_norm'].values\n",
    "offset = 0.02\n",
    "skip = 1\n",
    "plt.figure(figsize=(9,9))\n",
    "for i in range(len(parts)-1):\n",
    "    spos = parts[i]\n",
    "    epos = parts[i+1]\n",
    "    polygon = points[spos:epos,:]\n",
    "    plt.plot(polygon[:,0],polygon[:,1],c='w',linewidth=1);\n",
    "plt.scatter(X[:,0],X[:,1],c=rgb[:,:],s=60)\n",
    "plt.scatter(B[0,0],B[0,1],c='w',s=60)\n",
    "minval = np.min(np.concatenate((B[:1,:],X),axis=0),axis=0)\n",
    "maxval = np.max(np.concatenate((B[:1,:],X),axis=0),axis=0)\n",
    "plt.axis((minval[0]-offset,maxval[0]+offset,minval[1]-offset,maxval[1]+offset));"
   ]
  },
  {
   "cell_type": "markdown",
   "metadata": {},
   "source": [
    "### Get Found Tracts"
   ]
  },
  {
   "cell_type": "code",
   "execution_count": null,
   "metadata": {},
   "outputs": [],
   "source": [
    "tracts = []\n",
    "tractkeys = list(P.keys())\n",
    "for key in tractkeys:\n",
    "    index = np.where(tractlist == key)[0][0]\n",
    "    tractdp = tractdata.iloc[index]\n",
    "    lat = tractdp.lat\n",
    "    lng = tractdp.lng\n",
    "    tracts.append((lat,lng,tractdp.geoid))\n",
    "tracts = pd.DataFrame(tracts)\n",
    "tracts.columns = ['lat','lng','geoid']"
   ]
  },
  {
   "cell_type": "markdown",
   "metadata": {},
   "source": [
    "### Get Chains"
   ]
  },
  {
   "cell_type": "code",
   "execution_count": null,
   "metadata": {},
   "outputs": [],
   "source": [
    "chains = []\n",
    "tractkeys = list(P.keys())\n",
    "indices = []\n",
    "for key in tractkeys:\n",
    "    items = P[key]\n",
    "    for item in items:\n",
    "        nodeindex,mychainlist,mydistance = nodeUnpacker(item)\n",
    "        for mychain in mychainlist:\n",
    "            elements = mychain.split(' | ')\n",
    "            index = int(elements[0])\n",
    "            indices.append(index)\n",
    "            chaindp = chaindata.iloc[index]\n",
    "            lat = chaindp.lat\n",
    "            lng = chaindp.lng\n",
    "            chains.append((lat,lng,chaindp.chain))\n",
    "chains = pd.DataFrame(chains)\n",
    "chains.columns = ['lat','lng','node']\n",
    "chains = chains.drop_duplicates(keep='first')"
   ]
  },
  {
   "cell_type": "markdown",
   "metadata": {},
   "source": [
    "### Load Tract Shapefile"
   ]
  },
  {
   "cell_type": "code",
   "execution_count": null,
   "metadata": {},
   "outputs": [],
   "source": [
    "sf = shapefile.Reader('../data/acs/nyc_tracts/nyc_tracts_cleaned.shp')\n",
    "tractsShapeRecs = sf.shapeRecords()\n",
    "plist = []\n",
    "for i in range(len(tractsShapeRecs)):\n",
    "    tractpoints = np.array(tractsShapeRecs[i].shape.points)\n",
    "    tractparts = tractsShapeRecs[i].shape.parts\n",
    "    tractparts.append(tractpoints.shape[0])\n",
    "    plist.append((tractpoints,tractparts))"
   ]
  },
  {
   "cell_type": "markdown",
   "metadata": {},
   "source": [
    "### Plot Tracts and Chains"
   ]
  },
  {
   "cell_type": "code",
   "execution_count": null,
   "metadata": {},
   "outputs": [],
   "source": [
    "X = tracts[['lng','lat']].values\n",
    "C = chains[['lng','lat']].values\n",
    "rgb = np.zeros((X.shape[0],3))\n",
    "offset = 0.02\n",
    "skip = 1\n",
    "plt.figure(figsize=(9,9))\n",
    "for m in range(len(plist)):\n",
    "    tractpoints,tractparts = plist[m]\n",
    "    for i in range(len(tractparts)-1):\n",
    "        spos = tractparts[i]\n",
    "        epos = tractparts[i+1]\n",
    "        polygon = tractpoints[spos:epos,:]\n",
    "        plt.plot(polygon[:,0],polygon[:,1],c='w',linewidth=0.5,zorder=1)\n",
    "plt.scatter(X[:,0],X[:,1],c='r',s=10,zorder=2)\n",
    "plt.scatter(C[:,0],C[:,1],c='g',s=10,zorder=3)\n",
    "minval = np.min(X,axis=0)\n",
    "maxval = np.max(X,axis=0)\n",
    "plt.axis((minval[0]-offset,maxval[0]+offset,minval[1]-offset,maxval[1]+offset));"
   ]
  },
  {
   "cell_type": "markdown",
   "metadata": {},
   "source": [
    "### Save P"
   ]
  },
  {
   "cell_type": "code",
   "execution_count": null,
   "metadata": {},
   "outputs": [],
   "source": [
    "X = {}\n",
    "X['P'] = P\n",
    "X['D'] = D\n",
    "pickle.dump(X,open('../data/paths/nyc_tracts_nodes.p',\"wb\"))"
   ]
  },
  {
   "cell_type": "code",
   "execution_count": null,
   "metadata": {},
   "outputs": [],
   "source": []
  }
 ],
 "metadata": {
  "kernelspec": {
   "display_name": "Python 3",
   "language": "python",
   "name": "python3"
  },
  "language_info": {
   "codemirror_mode": {
    "name": "ipython",
    "version": 3
   },
   "file_extension": ".py",
   "mimetype": "text/x-python",
   "name": "python",
   "nbconvert_exporter": "python",
   "pygments_lexer": "ipython3",
   "version": "3.8.6"
  }
 },
 "nbformat": 4,
 "nbformat_minor": 4
}
