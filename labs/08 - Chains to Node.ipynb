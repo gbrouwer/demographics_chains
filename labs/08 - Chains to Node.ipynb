{
 "cells": [
  {
   "cell_type": "markdown",
   "metadata": {},
   "source": [
    "### Import"
   ]
  },
  {
   "cell_type": "code",
   "execution_count": 11,
   "metadata": {},
   "outputs": [],
   "source": [
    "import os\n",
    "import sys\n",
    "import pandas as pd\n",
    "import numpy as np\n",
    "import shapefile\n",
    "import re\n",
    "import pickle\n",
    "import networkx as nx\n",
    "import matplotlib.pyplot as plt\n",
    "from scipy.spatial import KDTree\n",
    "from matplotlib.patches import Polygon as polygon\n",
    "from matplotlib.collections import PatchCollection as patchCollection\n",
    "from tqdm import tqdm\n",
    "from collections import Counter\n",
    "from scipy.spatial.distance import cdist\n",
    "from scipy.spatial.distance import pdist"
   ]
  },
  {
   "cell_type": "markdown",
   "metadata": {},
   "source": [
    "### Borough Codes"
   ]
  },
  {
   "cell_type": "code",
   "execution_count": 12,
   "metadata": {},
   "outputs": [],
   "source": [
    "B = {}\n",
    "B['manhattan'] = 1\n",
    "B['thebronx'] = 2\n",
    "B['brooklyn'] = 3\n",
    "B['queens'] = 4\n",
    "B['statenisland'] = 5"
   ]
  },
  {
   "cell_type": "markdown",
   "metadata": {},
   "source": [
    "### Load Graph"
   ]
  },
  {
   "cell_type": "code",
   "execution_count": 13,
   "metadata": {},
   "outputs": [],
   "source": [
    "X = pickle.load(open(\"../data/graphs/nyc.p\",\"rb\"))\n",
    "O = X['O']\n",
    "N = X['N']\n",
    "edges = X['edges']\n",
    "nodes = X['nodes']\n",
    "nodenames = X['nodenames']\n",
    "edgedatabase = X['edgedatabase']\n",
    "G = X['G']\n",
    "Nlist = X['Nlist']\n",
    "pickle.dump(X,open('../data/graphs/nyc.p',\"wb\"))"
   ]
  },
  {
   "cell_type": "markdown",
   "metadata": {},
   "source": [
    "### Read Chain Data"
   ]
  },
  {
   "cell_type": "code",
   "execution_count": 34,
   "metadata": {},
   "outputs": [],
   "source": [
    "chaindatabase = pd.read_csv('../data/tables/chains_with_lat_lng_corrected.csv')\n",
    "chainlatlng = chaindatabase[['lat','lng']].values\n",
    "#np.unique(chaindatabase['city'].values)"
   ]
  },
  {
   "cell_type": "markdown",
   "metadata": {},
   "source": [
    "### Convert Nodes to Coordinates"
   ]
  },
  {
   "cell_type": "code",
   "execution_count": 43,
   "metadata": {},
   "outputs": [],
   "source": [
    "nodedatabase = []\n",
    "for node in Nlist:\n",
    "    elements = node.split(' | ')\n",
    "    nodename = ' | '.join(elements[:-3])\n",
    "    borough = elements[-1]\n",
    "    if (borough == 'MANHATTAN'):\n",
    "        borough = 'New York'\n",
    "    if (borough == 'QUEENS'):\n",
    "        borough = 'Queens'\n",
    "    if (borough == 'THEBRONX'):\n",
    "        borough = 'Bronx'\n",
    "    if (borough == 'STATENISLAND'):\n",
    "        borough = 'Staten Island'\n",
    "    if (borough == 'BROOKLYN'):\n",
    "        borough = 'Brooklyn'\n",
    "    lat = float(elements[-2])\n",
    "    lng = float(elements[-3])\n",
    "    nodedatabase.append((node,borough,lat,lng))\n",
    "nodedatabase = pd.DataFrame(nodedatabase)\n",
    "nodedatabase.columns = ['nodename','borough','lat','lng']\n",
    "nodelatlng = nodedatabase[['lat','lng']].values\n",
    "nodedatabase.to_csv('../data/tables/nodes.csv',index=False)"
   ]
  },
  {
   "cell_type": "markdown",
   "metadata": {},
   "source": [
    "### Create KDTree"
   ]
  },
  {
   "cell_type": "code",
   "execution_count": 44,
   "metadata": {},
   "outputs": [],
   "source": [
    "kdtree = KDTree(nodelatlng)"
   ]
  },
  {
   "cell_type": "markdown",
   "metadata": {},
   "source": [
    "### Find Node closest to chain lat lng"
   ]
  },
  {
   "cell_type": "code",
   "execution_count": 45,
   "metadata": {},
   "outputs": [],
   "source": [
    "nodenames = []\n",
    "count = 0\n",
    "for i in range(chainlatlng.shape[0]):\n",
    "    result = kdtree.query(chainlatlng[i,:],k=1)\n",
    "    distance,indices = result\n",
    "    chaindp = chaindatabase.iloc[i]\n",
    "    nodedp = nodedatabase.iloc[indices]\n",
    "    if (distance > 0.01):\n",
    "        count = count + 1\n",
    "        print('-------')\n",
    "        print(distance)\n",
    "        print(chaindp)\n",
    "        print(nodedp)\n",
    "        print(chaindp.city,nodedp.borough)\n",
    "    else:\n",
    "        nodenames.append(nodedp.nodename)\n",
    "chaindatabase['nodename'] = nodenames"
   ]
  },
  {
   "cell_type": "markdown",
   "metadata": {},
   "source": [
    "### Store"
   ]
  },
  {
   "cell_type": "code",
   "execution_count": 46,
   "metadata": {},
   "outputs": [],
   "source": [
    "chaindatabase.to_csv('../data/tables/chains_with_nodes.csv',index=False)"
   ]
  }
 ],
 "metadata": {
  "kernelspec": {
   "display_name": "Python 3",
   "language": "python",
   "name": "python3"
  },
  "language_info": {
   "codemirror_mode": {
    "name": "ipython",
    "version": 3
   },
   "file_extension": ".py",
   "mimetype": "text/x-python",
   "name": "python",
   "nbconvert_exporter": "python",
   "pygments_lexer": "ipython3",
   "version": "3.7.6"
  }
 },
 "nbformat": 4,
 "nbformat_minor": 4
}
